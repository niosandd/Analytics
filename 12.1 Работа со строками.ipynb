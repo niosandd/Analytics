{
 "cells": [
  {
   "cell_type": "markdown",
   "metadata": {
    "id": "0TU0EOUCluzI"
   },
   "source": [
    "## Подготовка данных для задания"
   ]
  },
  {
   "cell_type": "code",
   "execution_count": 1,
   "metadata": {
    "id": "lp0-7XZPTNsm"
   },
   "outputs": [
    {
     "name": "stdout",
     "output_type": "stream",
     "text": [
      "Collecting pymorphy2\n",
      "  Downloading pymorphy2-0.9.1-py3-none-any.whl (55 kB)\n",
      "Collecting docopt>=0.6\n",
      "  Downloading docopt-0.6.2.tar.gz (25 kB)\n",
      "Collecting dawg-python>=0.7.1\n",
      "  Downloading DAWG_Python-0.7.2-py2.py3-none-any.whl (11 kB)\n",
      "Collecting pymorphy2-dicts-ru<3.0,>=2.4\n",
      "  Downloading pymorphy2_dicts_ru-2.4.417127.4579844-py2.py3-none-any.whl (8.2 MB)\n",
      "Building wheels for collected packages: docopt\n",
      "  Building wheel for docopt (setup.py): started\n",
      "  Building wheel for docopt (setup.py): finished with status 'done'\n",
      "  Created wheel for docopt: filename=docopt-0.6.2-py2.py3-none-any.whl size=13793 sha256=1d52060f217b5a85398add6b4de7ebd53f4ac104f1219c96da024c8384b1731d\n",
      "  Stored in directory: c:\\users\\никита\\appdata\\local\\pip\\cache\\wheels\\70\\4a\\46\\1309fc853b8d395e60bafaf1b6df7845bdd82c95fd59dd8d2b\n",
      "Successfully built docopt\n",
      "Installing collected packages: pymorphy2-dicts-ru, docopt, dawg-python, pymorphy2\n",
      "Successfully installed dawg-python-0.7.2 docopt-0.6.2 pymorphy2-0.9.1 pymorphy2-dicts-ru-2.4.417127.4579844\n"
     ]
    }
   ],
   "source": [
    "!pip install pymorphy2"
   ]
  },
  {
   "cell_type": "code",
   "execution_count": 1,
   "metadata": {
    "colab": {
     "base_uri": "https://localhost:8080/",
     "height": 359
    },
    "executionInfo": {
     "elapsed": 767,
     "status": "ok",
     "timestamp": 1632931510917,
     "user": {
      "displayName": "Ketrin Trofimova",
      "photoUrl": "https://lh3.googleusercontent.com/a/default-user=s64",
      "userId": "05400058012601189465"
     },
     "user_tz": -180
    },
    "id": "xmVmCpFNRbnB",
    "outputId": "7d45e681-de26-4818-be85-8a3853867ef8",
    "tags": []
   },
   "outputs": [
    {
     "data": {
      "text/html": [
       "<div>\n",
       "<style scoped>\n",
       "    .dataframe tbody tr th:only-of-type {\n",
       "        vertical-align: middle;\n",
       "    }\n",
       "\n",
       "    .dataframe tbody tr th {\n",
       "        vertical-align: top;\n",
       "    }\n",
       "\n",
       "    .dataframe thead th {\n",
       "        text-align: right;\n",
       "    }\n",
       "</style>\n",
       "<table border=\"1\" class=\"dataframe\">\n",
       "  <thead>\n",
       "    <tr style=\"text-align: right;\">\n",
       "      <th></th>\n",
       "      <th>doc_id</th>\n",
       "      <th>word</th>\n",
       "      <th>dummy</th>\n",
       "    </tr>\n",
       "  </thead>\n",
       "  <tbody>\n",
       "    <tr>\n",
       "      <th>6</th>\n",
       "      <td>0</td>\n",
       "      <td>в</td>\n",
       "      <td>10</td>\n",
       "    </tr>\n",
       "    <tr>\n",
       "      <th>29</th>\n",
       "      <td>0</td>\n",
       "      <td>и</td>\n",
       "      <td>7</td>\n",
       "    </tr>\n",
       "    <tr>\n",
       "      <th>37</th>\n",
       "      <td>0</td>\n",
       "      <td>который</td>\n",
       "      <td>5</td>\n",
       "    </tr>\n",
       "    <tr>\n",
       "      <th>111</th>\n",
       "      <td>0</td>\n",
       "      <td>шерлок</td>\n",
       "      <td>4</td>\n",
       "    </tr>\n",
       "    <tr>\n",
       "      <th>77</th>\n",
       "      <td>0</td>\n",
       "      <td>с</td>\n",
       "      <td>4</td>\n",
       "    </tr>\n",
       "    <tr>\n",
       "      <th>84</th>\n",
       "      <td>0</td>\n",
       "      <td>сериал</td>\n",
       "      <td>4</td>\n",
       "    </tr>\n",
       "    <tr>\n",
       "      <th>75</th>\n",
       "      <td>0</td>\n",
       "      <td>риколетти</td>\n",
       "      <td>3</td>\n",
       "    </tr>\n",
       "    <tr>\n",
       "      <th>31</th>\n",
       "      <td>0</td>\n",
       "      <td>история</td>\n",
       "      <td>2</td>\n",
       "    </tr>\n",
       "    <tr>\n",
       "      <th>21</th>\n",
       "      <td>0</td>\n",
       "      <td>для</td>\n",
       "      <td>2</td>\n",
       "    </tr>\n",
       "    <tr>\n",
       "      <th>49</th>\n",
       "      <td>0</td>\n",
       "      <td>о</td>\n",
       "      <td>2</td>\n",
       "    </tr>\n",
       "  </tbody>\n",
       "</table>\n",
       "</div>"
      ],
      "text/plain": [
       "     doc_id       word  dummy\n",
       "6         0          в     10\n",
       "29        0          и      7\n",
       "37        0    который      5\n",
       "111       0     шерлок      4\n",
       "77        0          с      4\n",
       "84        0     сериал      4\n",
       "75        0  риколетти      3\n",
       "31        0    история      2\n",
       "21        0        для      2\n",
       "49        0          о      2"
      ]
     },
     "execution_count": 1,
     "metadata": {},
     "output_type": "execute_result"
    }
   ],
   "source": [
    "import re\n",
    "\n",
    "import pandas as pd\n",
    "import pymorphy2\n",
    "\n",
    "text_df = pd.read_csv(\"content_description.csv\", sep='\\t')\n",
    "#text_df = pd.read_csv(\"./data/content_description.csv\", sep='\\t')\n",
    "text_df.head()\n",
    "\n",
    "# разбиваем тест на слова\n",
    "corpus = []\n",
    "# регулярка для поиска слов\n",
    "regular_expr = r'\\w+'\n",
    "reg_expr_compiled = re.compile(regular_expr)\n",
    "\n",
    "# формируем датасет из отдельных слов\n",
    "for raw_text in text_df.description.values:\n",
    "    # приводим к нижнему регистру\n",
    "    raw_text_lower = raw_text.lower()\n",
    "    # разбиваем текст на слова\n",
    "    text_by_words = reg_expr_compiled.findall(raw_text_lower) \n",
    "    corpus.append(text_by_words)\n",
    "\n",
    "# нормализация текста\n",
    "normalized_corpus = []\n",
    "morph = pymorphy2.MorphAnalyzer()\n",
    "# нормализуем каждое слово в тексте\n",
    "for token_list in corpus:\n",
    "    normalized_token_list = []\n",
    "    for word in token_list:\n",
    "        parsed_token = morph.parse(word)\n",
    "        normal_form = parsed_token[0].normal_form\n",
    "        normalized_token_list.append(normal_form)\n",
    "    normalized_corpus.append(normalized_token_list)\n",
    "\n",
    "# превращаем в DataFrame\n",
    "doc_count = len(normalized_corpus)\n",
    "doc_ids = []\n",
    "tokens = []\n",
    "# формируем два списка-колонки датафрейма\n",
    "for doc_id in range(doc_count):\n",
    "    for token in normalized_corpus[doc_id]:\n",
    "        doc_ids.append(doc_id)\n",
    "        tokens.append(token)\n",
    "\n",
    "tokens_df = pd.DataFrame({\n",
    "    'doc_id': doc_ids,\n",
    "    'word': tokens\n",
    "})\n",
    "# дамми-столбец\n",
    "tokens_df = tokens_df.assign(dummy = 1)\n",
    "# аггрегируем статистики\n",
    "word_count_df = tokens_df.groupby(['doc_id','word'])['dummy'].count().reset_index()\n",
    "\n",
    "word_count_df[word_count_df.doc_id==0].sort_values(by='dummy', ascending=False).head(10)"
   ]
  },
  {
   "cell_type": "markdown",
   "metadata": {
    "id": "oYSsovIKRbnI"
   },
   "source": [
    "# 12.3  Домашняя работа\n",
    "\n",
    "12.3.1 **Задание простого уровня** Для каждого слова подсчитайте процент документов, в которых содержится это слово. Сформируйте dataframe doc_frequency. Процен документов вычисляется по формуле\n",
    "$$\n",
    "d = \\frac{m}{n} \\times 100\n",
    "$$\n",
    "где $m$ - количество документов, в которых встретилось это слово, а $n$ - общее количество документов. Значение в процентах округлите до целых.\n",
    "\n",
    "Посмотрите какие слова оказались в топе - это предлоги и частицы. Такие слова присутствуют во всех документах, а значит, их можно удалить из текста, чтобы оставшиеся слова были более \"осмысленными\". Это упростит анализ текста."
   ]
  },
  {
   "cell_type": "code",
   "execution_count": 2,
   "metadata": {
    "colab": {
     "base_uri": "https://localhost:8080/",
     "height": 32
    },
    "executionInfo": {
     "elapsed": 718,
     "status": "ok",
     "timestamp": 1632931946759,
     "user": {
      "displayName": "Ketrin Trofimova",
      "photoUrl": "https://lh3.googleusercontent.com/a/default-user=s64",
      "userId": "05400058012601189465"
     },
     "user_tz": -180
    },
    "id": "Gvr1-E9aRbnJ",
    "outputId": "5e7c8b9c-8ad4-485b-d725-174a1058a8f1"
   },
   "outputs": [
    {
     "data": {
      "text/html": [
       "<div>\n",
       "<style scoped>\n",
       "    .dataframe tbody tr th:only-of-type {\n",
       "        vertical-align: middle;\n",
       "    }\n",
       "\n",
       "    .dataframe tbody tr th {\n",
       "        vertical-align: top;\n",
       "    }\n",
       "\n",
       "    .dataframe thead th {\n",
       "        text-align: right;\n",
       "    }\n",
       "</style>\n",
       "<table border=\"1\" class=\"dataframe\">\n",
       "  <thead>\n",
       "    <tr style=\"text-align: right;\">\n",
       "      <th></th>\n",
       "      <th>word</th>\n",
       "      <th>doc_freq</th>\n",
       "    </tr>\n",
       "  </thead>\n",
       "  <tbody>\n",
       "    <tr>\n",
       "      <th>171</th>\n",
       "      <td>и</td>\n",
       "      <td>1.000</td>\n",
       "    </tr>\n",
       "    <tr>\n",
       "      <th>41</th>\n",
       "      <td>в</td>\n",
       "      <td>1.000</td>\n",
       "    </tr>\n",
       "    <tr>\n",
       "      <th>269</th>\n",
       "      <td>на</td>\n",
       "      <td>0.875</td>\n",
       "    </tr>\n",
       "    <tr>\n",
       "      <th>468</th>\n",
       "      <td>с</td>\n",
       "      <td>0.875</td>\n",
       "    </tr>\n",
       "    <tr>\n",
       "      <th>323</th>\n",
       "      <td>он</td>\n",
       "      <td>0.750</td>\n",
       "    </tr>\n",
       "    <tr>\n",
       "      <th>480</th>\n",
       "      <td>свой</td>\n",
       "      <td>0.750</td>\n",
       "    </tr>\n",
       "    <tr>\n",
       "      <th>618</th>\n",
       "      <td>что</td>\n",
       "      <td>0.750</td>\n",
       "    </tr>\n",
       "    <tr>\n",
       "      <th>326</th>\n",
       "      <td>онлайн</td>\n",
       "      <td>0.750</td>\n",
       "    </tr>\n",
       "    <tr>\n",
       "      <th>283</th>\n",
       "      <td>не</td>\n",
       "      <td>0.750</td>\n",
       "    </tr>\n",
       "    <tr>\n",
       "      <th>90</th>\n",
       "      <td>год</td>\n",
       "      <td>0.625</td>\n",
       "    </tr>\n",
       "  </tbody>\n",
       "</table>\n",
       "</div>"
      ],
      "text/plain": [
       "       word  doc_freq\n",
       "171       и     1.000\n",
       "41        в     1.000\n",
       "269      на     0.875\n",
       "468       с     0.875\n",
       "323      он     0.750\n",
       "480    свой     0.750\n",
       "618     что     0.750\n",
       "326  онлайн     0.750\n",
       "283      не     0.750\n",
       "90      год     0.625"
      ]
     },
     "execution_count": 2,
     "metadata": {},
     "output_type": "execute_result"
    }
   ],
   "source": [
    "doc_frequency = pd.DataFrame()\n",
    "\n",
    "doc_frequency = word_count_df.groupby('word')[\n",
    "    'doc_id'\n",
    "].count().reset_index(\n",
    "    name='doc_freq'\n",
    ").sort_values(by='doc_freq', ascending=False)\n",
    "\n",
    "doc_frequency.doc_freq /= float(doc_count)\n",
    "\n",
    "doc_frequency.head(10)"
   ]
  },
  {
   "cell_type": "markdown",
   "metadata": {
    "id": "Cfnb-W2uRbnK"
   },
   "source": [
    "12.3.2 **Задание среднего уровня**\n",
    "\n",
    "Воспользуйтесь регулярными выражениями, чтобы извлечь из текста все пары **имя+фамилия**.\n",
    "\n",
    "* неформальное описание регулярки: пара слов идущая друг за другом, каждое из которых начинается с заглавной буквы\n",
    "* анализировать нужно только `doc_id=3`\n",
    "* текст берём из исходного датафрейма `text_df`\n",
    "* заглавная буква в русскоязычном тексте соответствует символьному классу `r'[A-Я]*'`"
   ]
  },
  {
   "cell_type": "code",
   "execution_count": 3,
   "metadata": {
    "id": "fLKkVa_ORbnK"
   },
   "outputs": [
    {
     "name": "stdout",
     "output_type": "stream",
     "text": [
      "Стивена Фрая\n",
      "Джоном Дженксом\n",
      "Теда Уоллеса\n",
      "Теперь Тед\n",
      "Вскоре Тед\n"
     ]
    }
   ],
   "source": [
    "import re\n",
    "\n",
    "raw_text = text_df.description.values[3]\n",
    "reg_expr = r'[А-ЯЁ][а-яё]+\\s+[А-ЯЁ][а-яё]+'\n",
    "reg_expr_compiled = re.compile(reg_expr)\n",
    "\n",
    "for g in reg_expr_compiled.findall(raw_text):\n",
    "    print(g)\n"
   ]
  },
  {
   "cell_type": "markdown",
   "metadata": {
    "id": "nKvd6GYSRbnL"
   },
   "source": [
    "10.3.3 **Задание сложного уровня**. Словарь `genre_dict` содержит слова, которые являются характерными для того или иного жанра. Пользуясь словарём, а так же таблицей `word_count_df`, сформируйте таблицу двумя колонками `doc_id | genre` с жанрами фильмов.\n",
    "\n",
    "Для этого нужно\n",
    "* превратить словарь `genre_dict` в DataFrame формата `word | genre`, сохранить в переменнуб `genres_df`\n",
    "* соединить полученный датафрейм с помощью функции `merge` c ранее полученным датафреймом `word_count_df`, котороый содержит распределение слов по документам. Воспользуйтесь методом соединения `inner`\n",
    "* для каждого документа выбрать жанр документа - это совокупность жанров слов отдельных слов. У одного контента может быть несколько жанров"
   ]
  },
  {
   "cell_type": "code",
   "execution_count": 11,
   "metadata": {
    "id": "8mIEqm72RbnM"
   },
   "outputs": [
    {
     "data": {
      "text/html": [
       "<div>\n",
       "<style scoped>\n",
       "    .dataframe tbody tr th:only-of-type {\n",
       "        vertical-align: middle;\n",
       "    }\n",
       "\n",
       "    .dataframe tbody tr th {\n",
       "        vertical-align: top;\n",
       "    }\n",
       "\n",
       "    .dataframe thead th {\n",
       "        text-align: right;\n",
       "    }\n",
       "</style>\n",
       "<table border=\"1\" class=\"dataframe\">\n",
       "  <thead>\n",
       "    <tr style=\"text-align: right;\">\n",
       "      <th></th>\n",
       "      <th>doc_id</th>\n",
       "      <th>genre</th>\n",
       "    </tr>\n",
       "  </thead>\n",
       "  <tbody>\n",
       "    <tr>\n",
       "      <th>0</th>\n",
       "      <td>0</td>\n",
       "      <td>детектив</td>\n",
       "    </tr>\n",
       "    <tr>\n",
       "      <th>1</th>\n",
       "      <td>0</td>\n",
       "      <td>детектив</td>\n",
       "    </tr>\n",
       "    <tr>\n",
       "      <th>2</th>\n",
       "      <td>0</td>\n",
       "      <td>детектив</td>\n",
       "    </tr>\n",
       "    <tr>\n",
       "      <th>3</th>\n",
       "      <td>0</td>\n",
       "      <td>триллер</td>\n",
       "    </tr>\n",
       "    <tr>\n",
       "      <th>4</th>\n",
       "      <td>6</td>\n",
       "      <td>триллер</td>\n",
       "    </tr>\n",
       "    <tr>\n",
       "      <th>5</th>\n",
       "      <td>1</td>\n",
       "      <td>сказка</td>\n",
       "    </tr>\n",
       "    <tr>\n",
       "      <th>6</th>\n",
       "      <td>2</td>\n",
       "      <td>мелодрама</td>\n",
       "    </tr>\n",
       "    <tr>\n",
       "      <th>7</th>\n",
       "      <td>2</td>\n",
       "      <td>мелодрама</td>\n",
       "    </tr>\n",
       "    <tr>\n",
       "      <th>8</th>\n",
       "      <td>3</td>\n",
       "      <td>комедия</td>\n",
       "    </tr>\n",
       "    <tr>\n",
       "      <th>9</th>\n",
       "      <td>4</td>\n",
       "      <td>комедия</td>\n",
       "    </tr>\n",
       "    <tr>\n",
       "      <th>10</th>\n",
       "      <td>4</td>\n",
       "      <td>комедия</td>\n",
       "    </tr>\n",
       "    <tr>\n",
       "      <th>11</th>\n",
       "      <td>6</td>\n",
       "      <td>триллер</td>\n",
       "    </tr>\n",
       "    <tr>\n",
       "      <th>12</th>\n",
       "      <td>6</td>\n",
       "      <td>триллер</td>\n",
       "    </tr>\n",
       "  </tbody>\n",
       "</table>\n",
       "</div>"
      ],
      "text/plain": [
       "    doc_id      genre\n",
       "0        0   детектив\n",
       "1        0   детектив\n",
       "2        0   детектив\n",
       "3        0    триллер\n",
       "4        6    триллер\n",
       "5        1     сказка\n",
       "6        2  мелодрама\n",
       "7        2  мелодрама\n",
       "8        3    комедия\n",
       "9        4    комедия\n",
       "10       4    комедия\n",
       "11       6    триллер\n",
       "12       6    триллер"
      ]
     },
     "execution_count": 11,
     "metadata": {},
     "output_type": "execute_result"
    }
   ],
   "source": [
    "import itertools\n",
    "import pandas as pd\n",
    "\n",
    "genre_dict = {\n",
    "    'комедия': ['сатирический', 'авантюрный', 'забавный'],\n",
    "    'мелодрама': ['выбор', 'позор'],\n",
    "    'сказка': ['приключения', 'милый', 'семейный'],\n",
    "    'детектив': ['тайна', 'разгадать', 'загадочный'], \n",
    "    'триллер': ['ужас', 'зловещий', 'нерв']\n",
    "}\n",
    "\n",
    "nested_genres = [[(i, j) for j in genre_dict[i]] for i in genre_dict]\n",
    "flatten_genres = list(itertools.chain(*nested_genres))\n",
    "genres_df = pd.DataFrame(flatten_genres, columns=['genre', 'character_word'])\n",
    "\n",
    "doc_to_genres = word_count_df.merge(genres_df, left_on='word', right_on='character_word', how='inner')[['doc_id', 'genre']]\n",
    "doc_to_genres"
   ]
  },
  {
   "cell_type": "code",
   "execution_count": null,
   "metadata": {},
   "outputs": [],
   "source": []
  }
 ],
 "metadata": {
  "colab": {
   "collapsed_sections": [],
   "name": "Работа со строками. Домашняя работа.ipynb",
   "provenance": []
  },
  "kernelspec": {
   "display_name": "Python 3 (ipykernel)",
   "language": "python",
   "name": "python3"
  },
  "language_info": {
   "codemirror_mode": {
    "name": "ipython",
    "version": 3
   },
   "file_extension": ".py",
   "mimetype": "text/x-python",
   "name": "python",
   "nbconvert_exporter": "python",
   "pygments_lexer": "ipython3",
   "version": "3.9.12"
  }
 },
 "nbformat": 4,
 "nbformat_minor": 4
}
