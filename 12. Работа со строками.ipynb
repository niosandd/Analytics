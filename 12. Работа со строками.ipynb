{
 "cells": [
  {
   "cell_type": "markdown",
   "id": "0c05f4f8-625f-4fb7-b6b2-18ee2f9bc666",
   "metadata": {},
   "source": [
    "# 12.1 Введение"
   ]
  },
  {
   "cell_type": "markdown",
   "id": "4550ae89-5600-4d95-981d-949186c81687",
   "metadata": {},
   "source": [
    "- content_description.csv"
   ]
  },
  {
   "cell_type": "markdown",
   "id": "ac975e17-21a5-4d46-8f22-f3a18bccb562",
   "metadata": {},
   "source": [
    "### 12.2 Стандартные приёмы работы с текстом"
   ]
  },
  {
   "cell_type": "code",
   "execution_count": 1,
   "id": "3b4de7ba-7d54-4dce-86cf-9dc1337f2e34",
   "metadata": {},
   "outputs": [],
   "source": [
    "import pandas as pd"
   ]
  },
  {
   "cell_type": "code",
   "execution_count": 2,
   "id": "ebffd873-825d-40c9-bed8-a1b49c9fb02f",
   "metadata": {},
   "outputs": [
    {
     "data": {
      "text/html": [
       "<div>\n",
       "<style scoped>\n",
       "    .dataframe tbody tr th:only-of-type {\n",
       "        vertical-align: middle;\n",
       "    }\n",
       "\n",
       "    .dataframe tbody tr th {\n",
       "        vertical-align: top;\n",
       "    }\n",
       "\n",
       "    .dataframe thead th {\n",
       "        text-align: right;\n",
       "    }\n",
       "</style>\n",
       "<table border=\"1\" class=\"dataframe\">\n",
       "  <thead>\n",
       "    <tr style=\"text-align: right;\">\n",
       "      <th></th>\n",
       "      <th>content</th>\n",
       "      <th>description</th>\n",
       "    </tr>\n",
       "  </thead>\n",
       "  <tbody>\n",
       "    <tr>\n",
       "      <th>0</th>\n",
       "      <td>https://www.ivi.ru/watch/157318/description</td>\n",
       "      <td>Лучший подарок, который только можно было прид...</td>\n",
       "    </tr>\n",
       "    <tr>\n",
       "      <th>1</th>\n",
       "      <td>https://www.ivi.ru/watch/98336/description</td>\n",
       "      <td>Через какие трудности приходится проходить Сан...</td>\n",
       "    </tr>\n",
       "    <tr>\n",
       "      <th>2</th>\n",
       "      <td>https://www.ivi.ru/watch/183533/description</td>\n",
       "      <td>Миловидный Давид - позор для своего отца. Не в...</td>\n",
       "    </tr>\n",
       "    <tr>\n",
       "      <th>3</th>\n",
       "      <td>https://www.ivi.ru/watch/157319/description</td>\n",
       "      <td>Экранизация сатирического бестселлера Стивена ...</td>\n",
       "    </tr>\n",
       "    <tr>\n",
       "      <th>4</th>\n",
       "      <td>https://www.ivi.ru/watch/51342/description</td>\n",
       "      <td>«Леди удача» – авантюрная романтическая комеди...</td>\n",
       "    </tr>\n",
       "  </tbody>\n",
       "</table>\n",
       "</div>"
      ],
      "text/plain": [
       "                                       content  \\\n",
       "0  https://www.ivi.ru/watch/157318/description   \n",
       "1   https://www.ivi.ru/watch/98336/description   \n",
       "2  https://www.ivi.ru/watch/183533/description   \n",
       "3  https://www.ivi.ru/watch/157319/description   \n",
       "4   https://www.ivi.ru/watch/51342/description   \n",
       "\n",
       "                                         description  \n",
       "0  Лучший подарок, который только можно было прид...  \n",
       "1  Через какие трудности приходится проходить Сан...  \n",
       "2  Миловидный Давид - позор для своего отца. Не в...  \n",
       "3  Экранизация сатирического бестселлера Стивена ...  \n",
       "4  «Леди удача» – авантюрная романтическая комеди...  "
      ]
     },
     "execution_count": 2,
     "metadata": {},
     "output_type": "execute_result"
    }
   ],
   "source": [
    "text_df = pd.read_csv('content_description.csv', sep='\\t')\n",
    "text_df.head()"
   ]
  },
  {
   "cell_type": "code",
   "execution_count": null,
   "id": "03a33448-c968-4945-9804-dec901394c2a",
   "metadata": {},
   "outputs": [],
   "source": []
  }
 ],
 "metadata": {
  "kernelspec": {
   "display_name": "Python 3 (ipykernel)",
   "language": "python",
   "name": "python3"
  },
  "language_info": {
   "codemirror_mode": {
    "name": "ipython",
    "version": 3
   },
   "file_extension": ".py",
   "mimetype": "text/x-python",
   "name": "python",
   "nbconvert_exporter": "python",
   "pygments_lexer": "ipython3",
   "version": "3.9.12"
  }
 },
 "nbformat": 4,
 "nbformat_minor": 5
}
