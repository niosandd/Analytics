{
 "cells": [
  {
   "cell_type": "markdown",
   "id": "16a79f3a-f4a1-4271-922c-f3ce4e21e8a3",
   "metadata": {},
   "source": [
    "**2.1 Изменение размерности списков**"
   ]
  },
  {
   "cell_type": "code",
   "execution_count": 3,
   "id": "dcba361c-0513-48f9-8ce0-cd10c4dd807d",
   "metadata": {},
   "outputs": [],
   "source": [
    "import numpy as np"
   ]
  },
  {
   "cell_type": "code",
   "execution_count": 2,
   "id": "518b7a37-88ad-47e6-bc37-04dd1342be88",
   "metadata": {},
   "outputs": [],
   "source": [
    "score = np.array([3,4,5,7,9, 10])"
   ]
  },
  {
   "cell_type": "code",
   "execution_count": 6,
   "id": "a5ab1c77-14f5-4848-9529-793a2a806eb5",
   "metadata": {},
   "outputs": [
    {
     "data": {
      "text/plain": [
       "array([[ 3,  4],\n",
       "       [ 5,  7],\n",
       "       [ 9, 10]])"
      ]
     },
     "execution_count": 6,
     "metadata": {},
     "output_type": "execute_result"
    }
   ],
   "source": [
    "pairs = score.reshape(3,2)\n",
    "pairs"
   ]
  },
  {
   "cell_type": "code",
   "execution_count": 7,
   "id": "72311b37-5ab2-4ca8-9b73-875517c7e14a",
   "metadata": {},
   "outputs": [
    {
     "data": {
      "text/plain": [
       "2"
      ]
     },
     "execution_count": 7,
     "metadata": {},
     "output_type": "execute_result"
    }
   ],
   "source": [
    "pairs.ndim"
   ]
  },
  {
   "cell_type": "code",
   "execution_count": 8,
   "id": "40a3375d-3242-4fe2-bd68-6038c1e96a60",
   "metadata": {},
   "outputs": [
    {
     "data": {
      "text/plain": [
       "array([[ 3,  5,  9],\n",
       "       [ 4,  7, 10]])"
      ]
     },
     "execution_count": 8,
     "metadata": {},
     "output_type": "execute_result"
    }
   ],
   "source": [
    "pairs.transpose()"
   ]
  },
  {
   "cell_type": "code",
   "execution_count": 9,
   "id": "f671e6e2-0767-40a0-b8a9-cb3fac10e107",
   "metadata": {},
   "outputs": [],
   "source": [
    "T = pairs.transpose()"
   ]
  },
  {
   "cell_type": "code",
   "execution_count": 12,
   "id": "0b2def95-eff1-45a1-abc7-b08964222939",
   "metadata": {},
   "outputs": [
    {
     "data": {
      "text/plain": [
       "array([ 3,  5,  9,  4,  7, 10])"
      ]
     },
     "execution_count": 12,
     "metadata": {},
     "output_type": "execute_result"
    }
   ],
   "source": [
    "T.ravel()"
   ]
  },
  {
   "cell_type": "markdown",
   "id": "0b63256a-b65a-4325-853c-fa8c78122ae4",
   "metadata": {},
   "source": [
    "**2.2 Изменение списков**"
   ]
  },
  {
   "cell_type": "code",
   "execution_count": 13,
   "id": "bf13e2a5-1ebb-4c34-b8cf-bb814051bc30",
   "metadata": {},
   "outputs": [],
   "source": [
    "pairs2 = pairs"
   ]
  },
  {
   "cell_type": "code",
   "execution_count": 14,
   "id": "fa3acbf2-27fb-484f-8aaa-86effd6b5c16",
   "metadata": {},
   "outputs": [
    {
     "data": {
      "text/plain": [
       "array([[ 3,  4],\n",
       "       [ 5,  7],\n",
       "       [ 9, 10]])"
      ]
     },
     "execution_count": 14,
     "metadata": {},
     "output_type": "execute_result"
    }
   ],
   "source": [
    "pairs2"
   ]
  },
  {
   "cell_type": "code",
   "execution_count": 16,
   "id": "597fd5bf-1a50-4ece-a673-bc332d51e486",
   "metadata": {},
   "outputs": [],
   "source": [
    "pairs2[0][0] = 4"
   ]
  },
  {
   "cell_type": "code",
   "execution_count": 17,
   "id": "df6fe0ca-dcd1-4a6c-9498-80fc871583a7",
   "metadata": {},
   "outputs": [
    {
     "data": {
      "text/plain": [
       "array([[ 4,  4],\n",
       "       [ 5,  7],\n",
       "       [ 9, 10]])"
      ]
     },
     "execution_count": 17,
     "metadata": {},
     "output_type": "execute_result"
    }
   ],
   "source": [
    "pairs2"
   ]
  },
  {
   "cell_type": "code",
   "execution_count": 20,
   "id": "a2993168-2d51-4ce0-80bc-2aef2cfbd82a",
   "metadata": {},
   "outputs": [],
   "source": [
    "pairs3 = pairs2.copy()"
   ]
  },
  {
   "cell_type": "code",
   "execution_count": 22,
   "id": "cda000d4-7000-4a37-87a6-706826cef88e",
   "metadata": {},
   "outputs": [
    {
     "data": {
      "text/plain": [
       "array([[ 4,  4],\n",
       "       [ 5,  7],\n",
       "       [ 9, 10]])"
      ]
     },
     "execution_count": 22,
     "metadata": {},
     "output_type": "execute_result"
    }
   ],
   "source": [
    "pairs3"
   ]
  },
  {
   "cell_type": "code",
   "execution_count": 23,
   "id": "1ecb063c-8769-41eb-af94-ac1882fb6798",
   "metadata": {},
   "outputs": [],
   "source": [
    "pairs[0:2]=[[5,4], [4,6]]"
   ]
  },
  {
   "cell_type": "code",
   "execution_count": 24,
   "id": "d68c97b7-9328-45da-b08e-dc17780a2656",
   "metadata": {},
   "outputs": [
    {
     "data": {
      "text/plain": [
       "array([[ 5,  4],\n",
       "       [ 4,  6],\n",
       "       [ 9, 10]])"
      ]
     },
     "execution_count": 24,
     "metadata": {},
     "output_type": "execute_result"
    }
   ],
   "source": [
    "pairs"
   ]
  },
  {
   "cell_type": "markdown",
   "id": "33ab62f4-3597-4c37-9394-e8f8ec929f89",
   "metadata": {},
   "source": [
    "**2.3 Создание новых списков на основе старых**"
   ]
  },
  {
   "cell_type": "code",
   "execution_count": 25,
   "id": "6a0340b5-584e-4c91-8187-851a05720f59",
   "metadata": {},
   "outputs": [],
   "source": [
    "income = np.array([[20000, 30000, 25000, 700000],\n",
    "                   [23000,35000,20000,32000]])"
   ]
  },
  {
   "cell_type": "code",
   "execution_count": 26,
   "id": "071ec871-d5bc-476f-9563-b0994da1e83f",
   "metadata": {},
   "outputs": [
    {
     "data": {
      "text/plain": [
       "array([[ 9.90348755, 10.30895266, 10.1266311 , 13.45883561],\n",
       "       [10.04324949, 10.46310334,  9.90348755, 10.37349118]])"
      ]
     },
     "execution_count": 26,
     "metadata": {},
     "output_type": "execute_result"
    }
   ],
   "source": [
    "np.log(income)"
   ]
  },
  {
   "cell_type": "code",
   "execution_count": 28,
   "id": "3e27ea2d-ecd8-4377-9b31-63f21962af4a",
   "metadata": {},
   "outputs": [],
   "source": [
    "%matplotlib inline \n",
    "from matplotlib import pyplot as plt "
   ]
  },
  {
   "cell_type": "code",
   "execution_count": 31,
   "id": "95ce80cf-d53f-49bd-9e18-8b8215f22a90",
   "metadata": {},
   "outputs": [
    {
     "data": {
      "text/plain": [
       "[<matplotlib.lines.Line2D at 0x2cc798eb280>]"
      ]
     },
     "execution_count": 31,
     "metadata": {},
     "output_type": "execute_result"
    },
    {
     "data": {
      "image/png": "[encoded data removed]",
      "text/plain": [
       "<Figure size 640x480 with 1 Axes>"
      ]
     },
     "metadata": {},
     "output_type": "display_data"
    }
   ],
   "source": [
    "plt.plot(np.arange(8), np.log(income).flatten(), 'bo')"
   ]
  },
  {
   "cell_type": "code",
   "execution_count": 33,
   "id": "5f5cadf1-191c-4b06-82e5-e1b4ce4af307",
   "metadata": {},
   "outputs": [
    {
     "data": {
      "text/plain": [
       "[9, 4, 16, 25, 36]"
      ]
     },
     "execution_count": 33,
     "metadata": {},
     "output_type": "execute_result"
    }
   ],
   "source": [
    "L = [3,2,4,5,6]\n",
    "L = [i**2 for i in L]\n",
    "L"
   ]
  },
  {
   "cell_type": "markdown",
   "id": "449f7b36-fc66-49f4-88e4-9dade65e7284",
   "metadata": {},
   "source": [
    "**2.4 Дополнительные концепции NumPy**"
   ]
  },
  {
   "cell_type": "markdown",
   "id": "25fdecfc-8c08-4fbe-a40a-a0e3758c2c5b",
   "metadata": {},
   "source": [
    "M = np.arange(1,10,0.0003)\n",
    "M"
   ]
  },
  {
   "cell_type": "code",
   "execution_count": 13,
   "id": "d5e39367-d048-4b60-ae6b-3b67755e8882",
   "metadata": {},
   "outputs": [
    {
     "data": {
      "text/plain": [
       "array([ 1.,  1.,  1., ..., 10., 10., 10.])"
      ]
     },
     "execution_count": 13,
     "metadata": {},
     "output_type": "execute_result"
    }
   ],
   "source": [
    "M.round(2)"
   ]
  },
  {
   "cell_type": "code",
   "execution_count": 18,
   "id": "9c7bb523-6c28-4249-96d0-ce183e0bd57b",
   "metadata": {},
   "outputs": [],
   "source": [
    "A = np.array([2.5,3.7,4.2,5.1,6.8])"
   ]
  },
  {
   "cell_type": "code",
   "execution_count": 19,
   "id": "a84c8a52-30a3-4d09-a252-a21366f776ab",
   "metadata": {},
   "outputs": [
    {
     "data": {
      "text/plain": [
       "array([2., 3., 4., 5., 6.])"
      ]
     },
     "execution_count": 19,
     "metadata": {},
     "output_type": "execute_result"
    }
   ],
   "source": [
    "np.floor(A)"
   ]
  },
  {
   "cell_type": "code",
   "execution_count": 20,
   "id": "30a17c23-583a-4604-941a-6308175241c2",
   "metadata": {},
   "outputs": [
    {
     "data": {
      "text/plain": [
       "array([3., 4., 5., 6., 7.])"
      ]
     },
     "execution_count": 20,
     "metadata": {},
     "output_type": "execute_result"
    }
   ],
   "source": [
    "np.ceil(A)"
   ]
  },
  {
   "cell_type": "code",
   "execution_count": 21,
   "id": "a3010c24-9c09-411a-b8c7-efc330819adc",
   "metadata": {},
   "outputs": [
    {
     "data": {
      "text/plain": [
       "array([4.5, 5.7, 6.2, 7.1, 8.8])"
      ]
     },
     "execution_count": 21,
     "metadata": {},
     "output_type": "execute_result"
    }
   ],
   "source": [
    "np.add(A,2)"
   ]
  },
  {
   "cell_type": "code",
   "execution_count": 22,
   "id": "397bbb87-6edf-487b-ad4d-66d940e03753",
   "metadata": {},
   "outputs": [
    {
     "data": {
      "text/plain": [
       "array([1.5, 2.7, 3.2, 4.1, 5.8])"
      ]
     },
     "execution_count": 22,
     "metadata": {},
     "output_type": "execute_result"
    }
   ],
   "source": [
    "np.subtract(A,1)"
   ]
  },
  {
   "cell_type": "code",
   "execution_count": 24,
   "id": "fbf9bb03-5580-4dac-a1dc-703e12c2ac94",
   "metadata": {},
   "outputs": [
    {
     "data": {
      "text/plain": [
       "22.3"
      ]
     },
     "execution_count": 24,
     "metadata": {},
     "output_type": "execute_result"
    }
   ],
   "source": [
    "np.sum(A)"
   ]
  },
  {
   "cell_type": "code",
   "execution_count": 25,
   "id": "3f0cdae5-4972-4076-aeca-fe625bb7bec1",
   "metadata": {},
   "outputs": [
    {
     "data": {
      "text/plain": [
       "1347.318"
      ]
     },
     "execution_count": 25,
     "metadata": {},
     "output_type": "execute_result"
    }
   ],
   "source": [
    "np.prod(A)"
   ]
  },
  {
   "cell_type": "code",
   "execution_count": 26,
   "id": "c8f42722-b304-48e8-acf5-71dddfe78d1f",
   "metadata": {},
   "outputs": [],
   "source": [
    "d1 = \"2019-02-03\"\n",
    "d2 = \"2019-02-04\""
   ]
  },
  {
   "cell_type": "code",
   "execution_count": 27,
   "id": "a2c3c3dc-9381-4497-835c-c1671a6fb385",
   "metadata": {},
   "outputs": [
    {
     "data": {
      "text/plain": [
       "numpy.datetime64('2019-02-03')"
      ]
     },
     "execution_count": 27,
     "metadata": {},
     "output_type": "execute_result"
    }
   ],
   "source": [
    "np.datetime64(d1)"
   ]
  },
  {
   "cell_type": "code",
   "execution_count": 28,
   "id": "ca9341b9-b1fa-48b5-9ce5-ba6d903ea542",
   "metadata": {},
   "outputs": [
    {
     "data": {
      "text/plain": [
       "numpy.timedelta64(1,'D')"
      ]
     },
     "execution_count": 28,
     "metadata": {},
     "output_type": "execute_result"
    }
   ],
   "source": [
    "np.datetime64(d2) - np.datetime64(d1)"
   ]
  },
  {
   "cell_type": "markdown",
   "id": "7c7544b0-36ed-4f9f-97be-b6e329c32cae",
   "metadata": {},
   "source": [
    "**2.5 Структурированные списки**"
   ]
  },
  {
   "cell_type": "code",
   "execution_count": 32,
   "id": "15f85e0c-43db-4a3d-9943-a3a61c5f2327",
   "metadata": {},
   "outputs": [],
   "source": [
    "info = np.array([(\"Ann\",23,167),(\"Sam\",24,180),(\"Alex\",25,190)],\n",
    "                dtype = [(\"name\", \"U10\"),(\"age\", int),(\"height\", float)])"
   ]
  },
  {
   "cell_type": "code",
   "execution_count": 33,
   "id": "882cb455-6570-4ceb-89f0-2207e2a01726",
   "metadata": {},
   "outputs": [
    {
     "data": {
      "text/plain": [
       "array([('Ann', 23, 167.), ('Sam', 24, 180.), ('Alex', 25, 190.)],\n",
       "      dtype=[('name', '<U10'), ('age', '<i4'), ('height', '<f8')])"
      ]
     },
     "execution_count": 33,
     "metadata": {},
     "output_type": "execute_result"
    }
   ],
   "source": [
    "info"
   ]
  },
  {
   "cell_type": "code",
   "execution_count": 34,
   "id": "c6035efb-fb51-422e-a736-ebc882c921c6",
   "metadata": {},
   "outputs": [],
   "source": [
    "np.save(\"info.npy\", info)"
   ]
  },
  {
   "cell_type": "code",
   "execution_count": 35,
   "id": "66de9b86-95d4-45aa-9c15-7d7a77a0e7b6",
   "metadata": {},
   "outputs": [],
   "source": [
    "new = np.load(\"info.npy\")"
   ]
  },
  {
   "cell_type": "code",
   "execution_count": 36,
   "id": "02093ad0-6c6a-440b-81a3-7d5dddc47b62",
   "metadata": {},
   "outputs": [
    {
     "data": {
      "text/plain": [
       "array([('Ann', 23, 167.), ('Sam', 24, 180.), ('Alex', 25, 190.)],\n",
       "      dtype=[('name', '<U10'), ('age', '<i4'), ('height', '<f8')])"
      ]
     },
     "execution_count": 36,
     "metadata": {},
     "output_type": "execute_result"
    }
   ],
   "source": [
    "new"
   ]
  },
  {
   "cell_type": "code",
   "execution_count": 37,
   "id": "abd40fb6-3a7c-4af8-9306-d4c10270ef2d",
   "metadata": {},
   "outputs": [],
   "source": [
    "ages = ([61,73,86,97])"
   ]
  },
  {
   "cell_type": "code",
   "execution_count": 38,
   "id": "1b9740e8-31d0-423f-8070-bdb2f8e1a700",
   "metadata": {},
   "outputs": [],
   "source": [
    "np.savetxt(\"ages.txt\", ages)"
   ]
  },
  {
   "cell_type": "code",
   "execution_count": 39,
   "id": "04011508-f29a-455c-b040-1418e443c01d",
   "metadata": {},
   "outputs": [
    {
     "data": {
      "text/plain": [
       "\"[('Ann', 23, 167.) ('Sam', 24, 180.) ('Alex', 25, 190.)]\""
      ]
     },
     "execution_count": 39,
     "metadata": {},
     "output_type": "execute_result"
    }
   ],
   "source": [
    "np.array2string(info)"
   ]
  },
  {
   "cell_type": "code",
   "execution_count": 47,
   "id": "532e7141-25bb-4a04-b4f3-82bcbbd70980",
   "metadata": {},
   "outputs": [
    {
     "data": {
      "text/plain": [
       "[61, 73, 86, 97]"
      ]
     },
     "execution_count": 47,
     "metadata": {},
     "output_type": "execute_result"
    }
   ],
   "source": [
    "np.array(ages).tolist()"
   ]
  }
 ],
 "metadata": {
  "kernelspec": {
   "display_name": "venv_4",
   "language": "python",
   "name": "venv_4"
  },
  "language_info": {
   "codemirror_mode": {
    "name": "ipython",
    "version": 3
   },
   "file_extension": ".py",
   "mimetype": "text/x-python",
   "name": "python",
   "nbconvert_exporter": "python",
   "pygments_lexer": "ipython3",
   "version": "3.10.7"
  }
 },
 "nbformat": 4,
 "nbformat_minor": 5
}
