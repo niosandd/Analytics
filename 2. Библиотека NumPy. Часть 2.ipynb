{
 "cells": [
  {
   "cell_type": "markdown",
   "metadata": {},
   "source": [
    "## Библиотека `NumPy` : часть 2"
   ]
  },
  {
   "cell_type": "markdown",
   "metadata": {},
   "source": [
    "### Урок 4.1: Изменение размерности списков"
   ]
  },
  {
   "cell_type": "markdown",
   "metadata": {},
   "source": [
    "Импортируем библиотеку `NumPy`:"
   ]
  },
  {
   "cell_type": "code",
   "execution_count": 1,
   "metadata": {},
   "outputs": [],
   "source": [
    "import numpy as np"
   ]
  },
  {
   "cell_type": "markdown",
   "metadata": {},
   "source": [
    "Представим, что у нас есть массив оценок студентов `scores`:"
   ]
  },
  {
   "cell_type": "code",
   "execution_count": 2,
   "metadata": {},
   "outputs": [
    {
     "data": {
      "text/plain": [
       "array([ 3,  5,  7,  9,  8, 10])"
      ]
     },
     "execution_count": 2,
     "metadata": {},
     "output_type": "execute_result"
    }
   ],
   "source": [
    "scores = np.array([3, 5, 7, 9, 8, 10])\n",
    "scores"
   ]
  },
  {
   "cell_type": "markdown",
   "metadata": {},
   "source": [
    "И мы узнаём, что эти оценки должны быть записаны парами: студенты выполняли проект вдвоём, но оценки получили по отдельности по результатам защиты проекта. Как разбить шесть значений в массиве на маленькие списки по два значения? Воспользоваться методом `.reshape()`, который позволяет поменять форму массива."
   ]
  },
  {
   "cell_type": "code",
   "execution_count": 3,
   "metadata": {},
   "outputs": [
    {
     "data": {
      "text/plain": [
       "array([[ 3,  5],\n",
       "       [ 7,  9],\n",
       "       [ 8, 10]])"
      ]
     },
     "execution_count": 3,
     "metadata": {},
     "output_type": "execute_result"
    }
   ],
   "source": [
    "pairs = scores.reshape(3, 2)\n",
    "pairs"
   ]
  },
  {
   "cell_type": "markdown",
   "metadata": {},
   "source": [
    "**Важно:** теперь изменилась не только форма массива, но и его размерность – запросим число измерений массива `pairs`:"
   ]
  },
  {
   "cell_type": "code",
   "execution_count": 4,
   "metadata": {},
   "outputs": [
    {
     "data": {
      "text/plain": [
       "2"
      ]
     },
     "execution_count": 4,
     "metadata": {},
     "output_type": "execute_result"
    }
   ],
   "source": [
    "pairs.ndim"
   ]
  },
  {
   "cell_type": "code",
   "execution_count": 5,
   "metadata": {},
   "outputs": [
    {
     "data": {
      "text/plain": [
       "1"
      ]
     },
     "execution_count": 5,
     "metadata": {},
     "output_type": "execute_result"
    }
   ],
   "source": [
    "scores.ndim  # сравним"
   ]
  },
  {
   "cell_type": "markdown",
   "metadata": {},
   "source": [
    "Теперь массив двумерный, и чтобы обратиться к элементу массива, нам нужно указывать две вещи: индекс списка и индекс элемента в этом списке. Метод `.reshape()` удобен, но при его использовании стоит помнить, что не любой массив можно превратить в массив другой формы – общее число элементов в массиве должно позволять получить новое число списков и элементов в них. Так, массив `pairs`, в котором всего 6 элементов, нельзя превратить в массив вида `(2, 4)` (таблица $2 \\times 4$), потому что для такой формы понадобится 8 элементов! И Python явно об этом сообщит:"
   ]
  },
  {
   "cell_type": "code",
   "execution_count": 16,
   "metadata": {},
   "outputs": [
    {
     "ename": "ValueError",
     "evalue": "cannot reshape array of size 6 into shape (2,4)",
     "output_type": "error",
     "traceback": [
      "\u001b[0;31m---------------------------------------------------------------------------\u001b[0m",
      "\u001b[0;31mValueError\u001b[0m                                Traceback (most recent call last)",
      "\u001b[0;32m<ipython-input-16-c1aa555fa116>\u001b[0m in \u001b[0;36m<module>\u001b[0;34m()\u001b[0m\n\u001b[0;32m----> 1\u001b[0;31m \u001b[0mpairs\u001b[0m\u001b[0;34m.\u001b[0m\u001b[0mreshape\u001b[0m\u001b[0;34m(\u001b[0m\u001b[0;36m2\u001b[0m\u001b[0;34m,\u001b[0m \u001b[0;36m4\u001b[0m\u001b[0;34m)\u001b[0m\u001b[0;34m\u001b[0m\u001b[0m\n\u001b[0m",
      "\u001b[0;31mValueError\u001b[0m: cannot reshape array of size 6 into shape (2,4)"
     ]
    }
   ],
   "source": [
    "pairs.reshape(2, 4)"
   ]
  },
  {
   "cell_type": "markdown",
   "metadata": {},
   "source": [
    "Если нам нужно просто поменять местами строки и столбцы в таблице, то есть списки в массиве, можно воспользоваться транспонированием, которое осуществляется в `NumPy` с помощью метода `.transpose()`:"
   ]
  },
  {
   "cell_type": "code",
   "execution_count": 17,
   "metadata": {},
   "outputs": [
    {
     "data": {
      "text/plain": [
       "array([[ 3,  5],\n",
       "       [ 7, 10],\n",
       "       [ 8,  9]])"
      ]
     },
     "execution_count": 17,
     "metadata": {},
     "output_type": "execute_result"
    }
   ],
   "source": [
    "# было\n",
    "pairs"
   ]
  },
  {
   "cell_type": "code",
   "execution_count": 6,
   "metadata": {},
   "outputs": [
    {
     "data": {
      "text/plain": [
       "array([[ 3,  7,  8],\n",
       "       [ 5,  9, 10]])"
      ]
     },
     "execution_count": 6,
     "metadata": {},
     "output_type": "execute_result"
    }
   ],
   "source": [
    "# стало\n",
    "T = pairs.transpose() \n",
    "T"
   ]
  },
  {
   "cell_type": "markdown",
   "metadata": {},
   "source": [
    "Кроме того, в противоположность `.reshape()`, который часто используется для разбиения одномерного массива на многомерный из нескольких маленьких списков, в `NumPy` существует «обратный» метод `.ravel()`, который позволяет любой многомерный массив превратить в одномерный, состоящий из одного списка, другими словами, сделать массив «плоским»:"
   ]
  },
  {
   "cell_type": "code",
   "execution_count": 49,
   "metadata": {},
   "outputs": [
    {
     "data": {
      "text/plain": [
       "array([ 5,  4, 10,  7,  8,  8])"
      ]
     },
     "execution_count": 49,
     "metadata": {},
     "output_type": "execute_result"
    }
   ],
   "source": [
    "pairs.ravel()"
   ]
  },
  {
   "cell_type": "markdown",
   "metadata": {},
   "source": [
    "*Примечание:* в `NumPy` есть ещё другой метод для создания «плоских» массивов – `flatten()`."
   ]
  },
  {
   "cell_type": "markdown",
   "metadata": {},
   "source": [
    "На этом мы закончим обсуждать изменение размерности списков, а в следующем уроке поговорим об изменении элементов списков."
   ]
  },
  {
   "cell_type": "code",
   "execution_count": 1,
   "metadata": {},
   "outputs": [],
   "source": [
    "### Урок 4.2: изменение списков"
   ]
  },
  {
   "cell_type": "code",
   "execution_count": 2,
   "metadata": {},
   "outputs": [],
   "source": [
    "import numpy as np\n",
    "scores = np.array([3, 5, 7, 9, 8, 10])\n",
    "pairs = scores.reshape(3, 2)"
   ]
  },
  {
   "cell_type": "markdown",
   "metadata": {},
   "source": [
    "В прошлом модуле мы довольно подробно посмотрели, как можно обращаться к элементам массива или даже к группе элементов, используя срезы, а сейчас мы посмотрим на то, каким образом элементы можно изменять. Возьмём массив `pairs` из предыдущего урока, который содержит оценки пар студентов:"
   ]
  },
  {
   "cell_type": "code",
   "execution_count": 4,
   "metadata": {},
   "outputs": [
    {
     "data": {
      "text/plain": [
       "array([[ 3,  5],\n",
       "       [ 7,  9],\n",
       "       [ 8, 10]])"
      ]
     },
     "execution_count": 4,
     "metadata": {},
     "output_type": "execute_result"
    }
   ],
   "source": [
    "pairs"
   ]
  },
  {
   "cell_type": "markdown",
   "metadata": {},
   "source": [
    "Представим, что при внесении оценки первого студента мы ошиблись, и там на самом деле должна стоять оценка 3. Поправим: обратимся к этому элементу (это мы уже умеем делать), а далее присвоим ему новое значение:"
   ]
  },
  {
   "cell_type": "code",
   "execution_count": 6,
   "metadata": {},
   "outputs": [
    {
     "data": {
      "text/plain": [
       "array([[ 3,  5],\n",
       "       [ 7,  9],\n",
       "       [ 8, 10]])"
      ]
     },
     "execution_count": 6,
     "metadata": {},
     "output_type": "execute_result"
    }
   ],
   "source": [
    "pairs[0][0] = 3\n",
    "pairs"
   ]
  },
  {
   "cell_type": "markdown",
   "metadata": {},
   "source": [
    "Обратите внимание: у нас получилось изменить массив, не перезаписывая его полностью в переменную `pairs`, а только поправив один элемент. Это возможно, потому что массивы `NumPy` в Python – это изменяемые объекты. Изменяемость как раз и заключается в том, что мы можем изменить объект «как есть», не присваивая новый результат переменной с таким же названием. Это удобно, но иногда может вызывать проблемы. \n",
    "\n",
    "Представим, что мы хотим написать отчёт об ошибке в массиве `pairs` (ошибке в ведомости с оценками), и нам нужно предоставить старый массив и исправленный массив. Мы создаем массив `pairs2` и изменяем в нём значение первого элемента:"
   ]
  },
  {
   "cell_type": "code",
   "execution_count": 8,
   "metadata": {},
   "outputs": [
    {
     "data": {
      "text/plain": [
       "array([[ 4,  5],\n",
       "       [ 7,  9],\n",
       "       [ 8, 10]])"
      ]
     },
     "execution_count": 8,
     "metadata": {},
     "output_type": "execute_result"
    }
   ],
   "source": [
    "pairs2 = pairs\n",
    "pairs2[0][0] = 4\n",
    "pairs2"
   ]
  },
  {
   "cell_type": "markdown",
   "metadata": {},
   "source": [
    "Если мы «скопировали» массив `pairs` в массив `pairs2` как в коде выше, через присваивание, нас будет ждать сюрприз:"
   ]
  },
  {
   "cell_type": "code",
   "execution_count": 10,
   "metadata": {},
   "outputs": [
    {
     "name": "stdout",
     "output_type": "stream",
     "text": [
      "[[ 4  5]\n",
      " [ 7  9]\n",
      " [ 8 10]]\n",
      "[[ 4  5]\n",
      " [ 7  9]\n",
      " [ 8 10]]\n"
     ]
    }
   ],
   "source": [
    "print(pairs)\n",
    "print(pairs2)"
   ]
  },
  {
   "cell_type": "markdown",
   "metadata": {},
   "source": [
    "При изменении массива `pairs2`, массив `pairs` тоже изменился! Это тоже связано с тем, что массивы является изменяемыми объектами в Python. Поэтому, когда мы записываем что-то через присваивание (`=`), мы на самом деле создаем не новый объект, не копию, а просто ссылку на старый. Можно провести аналогию с созданием новой папки и ярлыка: при присваивании через `=` мы создаем «ярлык», просто ссылку на старый объект, а при непосредственном копировании мы создаем «папку», то есть новый объект. Копирование массива осуществляется с помощью метода `.copy()`:"
   ]
  },
  {
   "cell_type": "code",
   "execution_count": 12,
   "metadata": {},
   "outputs": [
    {
     "name": "stdout",
     "output_type": "stream",
     "text": [
      "[[ 4  5]\n",
      " [ 7  9]\n",
      " [ 8 10]]\n",
      "[[4 5]\n",
      " [7 9]\n",
      " [8 9]]\n"
     ]
    }
   ],
   "source": [
    "pairs3 = pairs2.copy()\n",
    "pairs3[2][1] = 9\n",
    "print(pairs2)\n",
    "print(pairs3)"
   ]
  },
  {
   "cell_type": "markdown",
   "metadata": {},
   "source": [
    "Также скопировать массив можно, сделав его полный срез:"
   ]
  },
  {
   "cell_type": "code",
   "execution_count": 14,
   "metadata": {},
   "outputs": [
    {
     "data": {
      "text/plain": [
       "array([[4, 5],\n",
       "       [7, 9],\n",
       "       [8, 9]])"
      ]
     },
     "execution_count": 14,
     "metadata": {},
     "output_type": "execute_result"
    }
   ],
   "source": [
    "pairs4 = pairs3[:]\n",
    "pairs4"
   ]
  },
  {
   "cell_type": "markdown",
   "metadata": {},
   "source": [
    "Посмотреть, насколько копия, созданная с помощью полного среза, является полноценной копией, и изменяется ли при её редактировании «оригинал», слушателям предлагается самостоятельно."
   ]
  },
  {
   "cell_type": "markdown",
   "metadata": {},
   "source": [
    "Раз уже заговорили о срезах, давайте посмотрим, как изменить сразу несколько списков в массиве. Например, заменить в `pairs` первые два списка:"
   ]
  },
  {
   "cell_type": "code",
   "execution_count": 17,
   "metadata": {},
   "outputs": [],
   "source": [
    "pairs[0:2] = [[5, 4], [9, 7]]"
   ]
  },
  {
   "cell_type": "code",
   "execution_count": 18,
   "metadata": {},
   "outputs": [
    {
     "data": {
      "text/plain": [
       "array([[ 5,  4],\n",
       "       [ 9,  7],\n",
       "       [ 8, 10]])"
      ]
     },
     "execution_count": 18,
     "metadata": {},
     "output_type": "execute_result"
    }
   ],
   "source": [
    "pairs"
   ]
  },
  {
   "cell_type": "markdown",
   "metadata": {},
   "source": [
    "На этом с изменением элементов массивов мы закончим, а в следующей части поговорим о создании новых массивов на основе старых с помощью генераторов списков и циклов."
   ]
  },
  {
   "cell_type": "markdown",
   "metadata": {},
   "source": [
    "### Урок 4.3: создание новых списков на основе старых"
   ]
  },
  {
   "cell_type": "markdown",
   "metadata": {},
   "source": [
    "Создадим небольшой массив со значениями дохода двух групп людей:"
   ]
  },
  {
   "cell_type": "code",
   "execution_count": 22,
   "metadata": {},
   "outputs": [],
   "source": [
    "income = np.array([[20000, 30000, 25000, 700000],\n",
    "                  [23000, 35000, 20000, 32000]])"
   ]
  },
  {
   "cell_type": "markdown",
   "metadata": {},
   "source": [
    "Теперь представим, что нам нужно получить массив с логарифмированными значениями дохода (так часто делают, потому что при переходе к логарифмам разброс значений в списке снижается, но природа данных не меняется). Сделать это довольно просто: мы уже обсуждали, как использовать функцию `np.log()` для нахождения натурального логарифма числа, а теперь применим её сразу ко всему массиву:"
   ]
  },
  {
   "cell_type": "code",
   "execution_count": 24,
   "metadata": {},
   "outputs": [
    {
     "data": {
      "text/plain": [
       "array([[ 9.90348755, 10.30895266, 10.1266311 , 13.45883561],\n",
       "       [10.04324949, 10.46310334,  9.90348755, 10.37349118]])"
      ]
     },
     "execution_count": 24,
     "metadata": {},
     "output_type": "execute_result"
    }
   ],
   "source": [
    "np.log(income)  # готово"
   ]
  },
  {
   "cell_type": "markdown",
   "metadata": {},
   "source": [
    "Теперь давайте немного поговорим о логарифмировании. Преобразование исходной шкалы измерения к логарифмической (здесь мы привели значения дохода в рублях к их натуральным логарифмам) часто используется для визуализации и анализа данных. Давайте сравним два графика. На обоих графиках по горизонтальной оси будет идти номер наблюдения (номер человека в массиве `income`, восемь человек – целые значения от 0 до 7), а по вертикальной оси на первом графике будут идти исходные значения дохода, а на втором – логарифмированные.\n",
    "\n",
    "Мы пока не обсуждали графику в Python, далее у вас будет целый модуль, посвящённый визуализиации с помощью `matplotlib`, но, тем не менее, давайте построим графики с помощью этой библиотеки, не вдаваясь в детали кода."
   ]
  },
  {
   "cell_type": "code",
   "execution_count": 26,
   "metadata": {},
   "outputs": [
    {
     "data": {
      "text/plain": [
       "[<matplotlib.lines.Line2D at 0x18ea4c0c6d0>]"
      ]
     },
     "execution_count": 26,
     "metadata": {},
     "output_type": "execute_result"
    },
    {
     "data": {
      "image/png": "[encoded data removed]",
      "text/plain": [
       "<Figure size 432x288 with 1 Axes>"
      ]
     },
     "metadata": {
      "needs_background": "light"
     },
     "output_type": "display_data"
    }
   ],
   "source": [
    "%matplotlib inline\n",
    "from matplotlib import pyplot as plt\n",
    "plt.plot(np.arange(8), income.flatten(), 'bo')"
   ]
  },
  {
   "cell_type": "markdown",
   "metadata": {},
   "source": [
    "*Краткие комментарии по коду:*\n",
    "\n",
    "* `%matplotlib inline` – магическая строка (это официальное название, *magic line*), которая сообщает Jupyter, что график должен быть построен прямо в этом ipynb-файле, не в отдельном окне, и отображён явно, сразу после ячейки с кодом;\n",
    "\n",
    "* во второй строке из библиотеки `matplotlib` мы импортируем модуль `pyplot` с сокращённым названием `plt`;\n",
    "\n",
    "* в функции `plot()` мы сначала указываем значения по оси `x` (номер наблюдения в нашем случае, сгенерированный с помощью `arange()`), а затем – значения по оси `y` (значения дохода, которые мы превратили в «плоский» массив);\n",
    "\n",
    "* опция `bo` отвечает за цвет и тип маркера для точек: `b` – от *blue*, синие точки, `o` – круглые точки."
   ]
  },
  {
   "cell_type": "markdown",
   "metadata": {},
   "source": [
    "Аналогичным образом построим график для логарифмированных значений дохода:"
   ]
  },
  {
   "cell_type": "code",
   "execution_count": 29,
   "metadata": {},
   "outputs": [
    {
     "data": {
      "text/plain": [
       "[<matplotlib.lines.Line2D at 0x18ea53a8940>]"
      ]
     },
     "execution_count": 29,
     "metadata": {},
     "output_type": "execute_result"
    },
    {
     "data": {
      "image/png": "[encoded data removed]",
      "text/plain": [
       "<Figure size 432x288 with 1 Axes>"
      ]
     },
     "metadata": {
      "needs_background": "light"
     },
     "output_type": "display_data"
    }
   ],
   "source": [
    "plt.plot(np.arange(8), np.log(income).flatten(), 'bo')"
   ]
  },
  {
   "cell_type": "markdown",
   "metadata": {},
   "source": [
    "По первому графику сложно делать какие-то выводы. Из-за того, что одна точка сильно отличается от остальных, картинка получается очень растянутой, и кажется, что все значения дохода, кроме самого большого, находятся примерно на одном уровне – менее 100 тысяч. Это, конечно, правда, все значения в `income`, кроме одного, менее 100 тысяч, но понять, насколько сильно одно значение отличается от другого, по такому графику сложновато. На втором графике картина меняется: теперь разница между значениями дохода более заметна. Например, по графику чётко видно, что доход второго человека в массиве выше, чем у первого, но ниже, чем у третьего, доходы третьего и пятого человека совпадают, и так далее. При этом важно, что при логарифмировании порядок значений, «природа» данных сохранилась: что в исходном массиве `income` минимальная заработная плата была у шестого человека, а максимальная – у четвёртого, то осталось и в новом массиве."
   ]
  },
  {
   "cell_type": "markdown",
   "metadata": {},
   "source": [
    "От содержательных аспектов визуализации и анализа данных давайте вернёмся к техническим и посмотрим, как создавать новые списки на основе старых. Причём сейчас речь пойдёт именно о списках Python, о структуре данных, которая называется *list* (иногда слова «список» и массив в программировании отождествляют, но сейчас мы поговорим о списке в узком смысле). Допустим, у нас есть список, и мы хотим возвести его значения в квадрат: "
   ]
  },
  {
   "cell_type": "code",
   "execution_count": 32,
   "metadata": {},
   "outputs": [
    {
     "ename": "TypeError",
     "evalue": "unsupported operand type(s) for ** or pow(): 'list' and 'int'",
     "output_type": "error",
     "traceback": [
      "\u001b[1;31m---------------------------------------------------------------------------\u001b[0m",
      "\u001b[1;31mTypeError\u001b[0m                                 Traceback (most recent call last)",
      "Input \u001b[1;32mIn [32]\u001b[0m, in \u001b[0;36m<cell line: 2>\u001b[1;34m()\u001b[0m\n\u001b[0;32m      1\u001b[0m L \u001b[38;5;241m=\u001b[39m [\u001b[38;5;241m2\u001b[39m, \u001b[38;5;241m6\u001b[39m, \u001b[38;5;241m7\u001b[39m, \u001b[38;5;241m1\u001b[39m]\n\u001b[1;32m----> 2\u001b[0m \u001b[43mL\u001b[49m\u001b[43m \u001b[49m\u001b[38;5;241;43m*\u001b[39;49m\u001b[38;5;241;43m*\u001b[39;49m\u001b[43m \u001b[49m\u001b[38;5;241;43m2\u001b[39;49m\n",
      "\u001b[1;31mTypeError\u001b[0m: unsupported operand type(s) for ** or pow(): 'list' and 'int'"
     ]
    }
   ],
   "source": [
    "L = [2, 6, 7, 1]\n",
    "L ** 2 # не получается"
   ]
  },
  {
   "cell_type": "markdown",
   "metadata": {},
   "source": [
    "Ничего не получилось. Как быть? В таких случаях нам пригодятся специальные конструкции – генераторы списков или списковые включения (*list comprehensions*). Давайте сначала запишем код, а потом разберём его по частям."
   ]
  },
  {
   "cell_type": "code",
   "execution_count": 34,
   "metadata": {},
   "outputs": [
    {
     "data": {
      "text/plain": [
       "[4, 36, 49, 1]"
      ]
     },
     "execution_count": 34,
     "metadata": {},
     "output_type": "execute_result"
    }
   ],
   "source": [
    "L_sq = [i ** 2 for i in L]\n",
    "L_sq"
   ]
  },
  {
   "cell_type": "markdown",
   "metadata": {},
   "source": [
    "Для тех, кто знаком с циклами, строка кода выше могла показаться знакомой. Действительно, в этой задаче мы как раз сталкиваемся с необходимостью выполнять повторяющиеся действия – возводить в квадрат каждый элемент списка `L` по очереди. Как устроена приведённая выше конструкция?\n",
    "\n",
    "* Часть `i ** 2`: каким-то образом мы обозначаем элемент списка, с которым мы будем работать (список, по которому мы будем «бегать», переходя от одного элемента к другому), и указываем, какое действие с этим элементом надо сделать; здесь мы назвали  элемент `i` и сообщили, что его нужно будет возводить в квадрат.\n",
    "\n",
    "* Часть `for i in L`: указываем, по какому списку мы будем «бегать», переходя от одного элемента к другому, чтобы достичь цели – возвести все элементы интересующего нас списка в квадрат; расшифровывается как «для каждого элемента `i` в списке `L`сделай что-то».\n",
    "\n",
    "* Обе части вместе: сначала указываем, что с элементом старого списка нужно сделать, потом – с каким списком мы работаем; затем, так как результат выполнения операций – новый список, заключаем всю конструкцию в квадратные скобки.\n",
    "\n",
    "Давайте для закрепления рассмотрим ещё несколько примеров."
   ]
  },
  {
   "cell_type": "code",
   "execution_count": 36,
   "metadata": {},
   "outputs": [
    {
     "data": {
      "text/plain": [
       "[0.6931471805599453, 1.791759469228055, 1.9459101490553132, 0.0]"
      ]
     },
     "execution_count": 36,
     "metadata": {},
     "output_type": "execute_result"
    }
   ],
   "source": [
    "L_log = [np.log(num) for num in L ]\n",
    "L_log"
   ]
  },
  {
   "cell_type": "code",
   "execution_count": 37,
   "metadata": {},
   "outputs": [
    {
     "data": {
      "text/plain": [
       "[1.4142135623730951, 2.449489742783178, 2.6457513110645907, 1.0]"
      ]
     },
     "execution_count": 37,
     "metadata": {},
     "output_type": "execute_result"
    }
   ],
   "source": [
    "L_sqrt = [np.sqrt(j) for j in L]\n",
    "L_sqrt"
   ]
  },
  {
   "cell_type": "markdown",
   "metadata": {},
   "source": [
    "### Урок 4.4: дополнительные концепции `NumPy`"
   ]
  },
  {
   "cell_type": "markdown",
   "metadata": {},
   "source": [
    "### Вычисления\n",
    "\n",
    "Создадим массив `M` из последовательности чисел (вспомним про `arange()`):"
   ]
  },
  {
   "cell_type": "code",
   "execution_count": 40,
   "metadata": {},
   "outputs": [
    {
     "data": {
      "text/plain": [
       "array([1.   , 1.003, 1.006, ..., 9.991, 9.994, 9.997])"
      ]
     },
     "execution_count": 40,
     "metadata": {},
     "output_type": "execute_result"
    }
   ],
   "source": [
    "M = np.arange(1, 10, 0.003)\n",
    "M"
   ]
  },
  {
   "cell_type": "markdown",
   "metadata": {},
   "source": [
    "Округление:"
   ]
  },
  {
   "cell_type": "code",
   "execution_count": 42,
   "metadata": {},
   "outputs": [
    {
     "data": {
      "text/plain": [
       "array([ 1.,  1.,  1., ..., 10., 10., 10.])"
      ]
     },
     "execution_count": 42,
     "metadata": {},
     "output_type": "execute_result"
    }
   ],
   "source": [
    "np.round(M)  # до целого"
   ]
  },
  {
   "cell_type": "code",
   "execution_count": 43,
   "metadata": {},
   "outputs": [
    {
     "data": {
      "text/plain": [
       "array([ 1.,  1.,  1., ..., 10., 10., 10.])"
      ]
     },
     "execution_count": 43,
     "metadata": {},
     "output_type": "execute_result"
    }
   ],
   "source": [
    "np.round(M, 1)  # до 1го знака "
   ]
  },
  {
   "cell_type": "code",
   "execution_count": 44,
   "metadata": {},
   "outputs": [
    {
     "data": {
      "text/plain": [
       "array([ 1.  ,  1.  ,  1.01, ...,  9.99,  9.99, 10.  ])"
      ]
     },
     "execution_count": 44,
     "metadata": {},
     "output_type": "execute_result"
    }
   ],
   "source": [
    "np.round(M, 2)"
   ]
  },
  {
   "cell_type": "markdown",
   "metadata": {},
   "source": [
    "Возьмём массив поинтереснее с точки зрения округления:"
   ]
  },
  {
   "cell_type": "code",
   "execution_count": 46,
   "metadata": {},
   "outputs": [
    {
     "data": {
      "text/plain": [
       "array([2.5 , 2.7 , 8.1 , 9.25])"
      ]
     },
     "execution_count": 46,
     "metadata": {},
     "output_type": "execute_result"
    }
   ],
   "source": [
    "A = np.array([2.5, 2.7, 8.1, 9.25])\n",
    "A"
   ]
  },
  {
   "cell_type": "code",
   "execution_count": 47,
   "metadata": {},
   "outputs": [
    {
     "data": {
      "text/plain": [
       "array([2., 2., 8., 9.])"
      ]
     },
     "execution_count": 47,
     "metadata": {},
     "output_type": "execute_result"
    }
   ],
   "source": [
    "np.floor(A)  # в меньшую сторону"
   ]
  },
  {
   "cell_type": "code",
   "execution_count": 48,
   "metadata": {},
   "outputs": [
    {
     "data": {
      "text/plain": [
       "array([ 3.,  3.,  9., 10.])"
      ]
     },
     "execution_count": 48,
     "metadata": {},
     "output_type": "execute_result"
    }
   ],
   "source": [
    "np.ceil(A)  # в большую сторону"
   ]
  },
  {
   "cell_type": "markdown",
   "metadata": {},
   "source": [
    "Добавим ко всем элементам `A` 2:"
   ]
  },
  {
   "cell_type": "code",
   "execution_count": 50,
   "metadata": {},
   "outputs": [
    {
     "data": {
      "text/plain": [
       "array([ 4.5 ,  4.7 , 10.1 , 11.25])"
      ]
     },
     "execution_count": 50,
     "metadata": {},
     "output_type": "execute_result"
    }
   ],
   "source": [
    "np.add(A, 2)"
   ]
  },
  {
   "cell_type": "markdown",
   "metadata": {},
   "source": [
    "А теперь вычтем 1:"
   ]
  },
  {
   "cell_type": "code",
   "execution_count": 52,
   "metadata": {},
   "outputs": [
    {
     "data": {
      "text/plain": [
       "array([1.5 , 1.7 , 7.1 , 8.25])"
      ]
     },
     "execution_count": 52,
     "metadata": {},
     "output_type": "execute_result"
    }
   ],
   "source": [
    "np.subtract(A, 1)"
   ]
  },
  {
   "cell_type": "markdown",
   "metadata": {},
   "source": [
    "Суммируем все значения:"
   ]
  },
  {
   "cell_type": "code",
   "execution_count": 102,
   "metadata": {},
   "outputs": [
    {
     "data": {
      "text/plain": [
       "22.55"
      ]
     },
     "execution_count": 102,
     "metadata": {},
     "output_type": "execute_result"
    }
   ],
   "source": [
    "np.sum(A)"
   ]
  },
  {
   "cell_type": "markdown",
   "metadata": {},
   "source": [
    "Или найдём их произведения:"
   ]
  },
  {
   "cell_type": "code",
   "execution_count": 56,
   "metadata": {},
   "outputs": [
    {
     "data": {
      "text/plain": [
       "505.74375"
      ]
     },
     "execution_count": 56,
     "metadata": {},
     "output_type": "execute_result"
    }
   ],
   "source": [
    "np.prod(A)"
   ]
  },
  {
   "cell_type": "markdown",
   "metadata": {},
   "source": [
    "### Урок 4.5: структурированные списки"
   ]
  },
  {
   "cell_type": "markdown",
   "metadata": {},
   "source": [
    "До этого мы работали с обычными массивами, массивами, где у нас не было никаких меток, которые бы сообщали, что именно содержится в том или ином списке: возраст человека, его доход, пол и прочее. Мы уже заранее знали, что, например, в массиве `scores` сохранены оценки студентов и больше ничего. Кроме того, мы не могли бы включить в список имена студентов как есть, ведь массив не может содержать элементы разных типов, в нашем случае, целые числа и строки. Как быть? Можно создать структурированный массив или структурированный список (*structured array*). \n",
    "\n",
    "Чтобы познакомиться с этой структурой, рассмотрим пример. У нас есть данные по трем людям: имя (строка), возраст (целое число) и рост (число с плавающей точкой). Мы хотим создать массив таким образом, чтобы было понятно, что в нем сохранены именно такие показатели, плюс, чтобы разные типы данных не конфликтовали между собой. Попробуем! "
   ]
  },
  {
   "cell_type": "code",
   "execution_count": 59,
   "metadata": {},
   "outputs": [],
   "source": [
    "info = np.array([('Anna', 19, 168), \n",
    "                 ('Sam', 33, 175.5), \n",
    "                 ('Pam', 23, 180)],\n",
    "             dtype=[('name', 'U10'), \n",
    "                    ('age', int), \n",
    "                    ('height', float)])"
   ]
  },
  {
   "cell_type": "markdown",
   "metadata": {},
   "source": [
    "Для удобства можно думать о массиве `info` как о таблице с данными, в которой есть 3 столбца (`name`, `age`, `height`) и три строки, соответствующие трём респондентам (*Anna*, *Sam*, *Pam*). \n",
    "\n",
    "Что приведенный выше код означает? Во-первых, данные по каждому человеку мы записали в виде кортежа – набора элементов в круглых скобках, причем перечислили имя, возраст и рост друг за другом. Каждый кортеж – это одна строка в таблице. Во-вторых, каждому значению в кортеже мы присвоили название: в `dtype` у нас указано три элемента. Первый элемент имеет название или метку `name`, второй – `age`, третий – `height`. \n",
    "В-третьих, чтобы Python не привёл все элементы к одному типу (строковый тип, *string*, окажется сильнее, поэтому есть риск превратить все числовые значения в массиве в текст), в `dtype`, помимо названия поля, то есть столбца в таблице, мы указываем его тип. Тип \n",
    "\n",
    "Посмотрим на  массив:"
   ]
  },
  {
   "cell_type": "code",
   "execution_count": 61,
   "metadata": {},
   "outputs": [
    {
     "data": {
      "text/plain": [
       "array([('Anna', 19, 168. ), ('Sam', 33, 175.5), ('Pam', 23, 180. )],\n",
       "      dtype=[('name', '<U10'), ('age', '<i4'), ('height', '<f8')])"
      ]
     },
     "execution_count": 61,
     "metadata": {},
     "output_type": "execute_result"
    }
   ],
   "source": [
    "info"
   ]
  },
  {
   "cell_type": "code",
   "execution_count": 62,
   "metadata": {},
   "outputs": [
    {
     "name": "stdout",
     "output_type": "stream",
     "text": [
      "[('Anna', 19, 168. ) ('Sam', 33, 175.5) ('Pam', 23, 180. )]\n"
     ]
    }
   ],
   "source": [
    "print(info)"
   ]
  },
  {
   "cell_type": "markdown",
   "metadata": {},
   "source": [
    "Обращаться к элементам структурированного массива можно обычным образом. Так, выведем на экран информацию по Анне, которая у нас находится на первом месте в массиве:"
   ]
  },
  {
   "cell_type": "code",
   "execution_count": 64,
   "metadata": {},
   "outputs": [
    {
     "data": {
      "text/plain": [
       "('Anna', 19, 168.)"
      ]
     },
     "execution_count": 64,
     "metadata": {},
     "output_type": "execute_result"
    }
   ],
   "source": [
    "info[0]"
   ]
  },
  {
   "cell_type": "markdown",
   "metadata": {},
   "source": [
    "Или информацию по Анне и Сэму сразу, используя срез:"
   ]
  },
  {
   "cell_type": "code",
   "execution_count": 66,
   "metadata": {},
   "outputs": [
    {
     "data": {
      "text/plain": [
       "array([('Anna', 19, 168. ), ('Sam', 33, 175.5)],\n",
       "      dtype=[('name', '<U10'), ('age', '<i4'), ('height', '<f8')])"
      ]
     },
     "execution_count": 66,
     "metadata": {},
     "output_type": "execute_result"
    }
   ],
   "source": [
    "info[0:2]"
   ]
  },
  {
   "cell_type": "markdown",
   "metadata": {},
   "source": [
    "Однако история со структурированными массивами ещё более интересная. Можно отдельно вызывать определенные поля – значения с фиксированной меткой или названием. Так, мы можем запросить значения возраста по всем людям в массиве:"
   ]
  },
  {
   "cell_type": "code",
   "execution_count": 68,
   "metadata": {},
   "outputs": [
    {
     "data": {
      "text/plain": [
       "array([19, 33, 23])"
      ]
     },
     "execution_count": 68,
     "metadata": {},
     "output_type": "execute_result"
    }
   ],
   "source": [
    "info['age']"
   ]
  },
  {
   "cell_type": "markdown",
   "metadata": {},
   "source": [
    "Или пары возраст-рост:"
   ]
  },
  {
   "cell_type": "code",
   "execution_count": 70,
   "metadata": {},
   "outputs": [
    {
     "data": {
      "text/plain": [
       "array([(19, 168. ), (33, 175.5), (23, 180. )],\n",
       "      dtype={'names':['age','height'], 'formats':['<i4','<f8'], 'offsets':[40,44], 'itemsize':52})"
      ]
     },
     "execution_count": 70,
     "metadata": {},
     "output_type": "execute_result"
    }
   ],
   "source": [
    "info[['age', 'height']]  # названия оформлены в виде списка - в []"
   ]
  },
  {
   "cell_type": "markdown",
   "metadata": {},
   "source": [
    "Отсюда можем получить информацию по первому человеку (Анне):"
   ]
  },
  {
   "cell_type": "code",
   "execution_count": 72,
   "metadata": {},
   "outputs": [
    {
     "data": {
      "text/plain": [
       "(19, 168.)"
      ]
     },
     "execution_count": 72,
     "metadata": {},
     "output_type": "execute_result"
    }
   ],
   "source": [
    "info[['age', 'height']][0]"
   ]
  },
  {
   "cell_type": "markdown",
   "metadata": {},
   "source": [
    "Или отдельно по второму (Сэм):"
   ]
  },
  {
   "cell_type": "code",
   "execution_count": 75,
   "metadata": {},
   "outputs": [
    {
     "data": {
      "text/plain": [
       "(33, 175.5)"
      ]
     },
     "execution_count": 75,
     "metadata": {},
     "output_type": "execute_result"
    }
   ],
   "source": [
    "info[['age', 'height']][1]"
   ]
  },
  {
   "cell_type": "markdown",
   "metadata": {},
   "source": [
    "**Дополнение для желающих**\n",
    "\n",
    "Изменять элементы структурированного массива тоже можно. И логика ничем не отличается от работы с обычными массивами. Заменим третий элемент массива: вместо данных по Пэм запишем данные по Стиву:"
   ]
  },
  {
   "cell_type": "code",
   "execution_count": 77,
   "metadata": {},
   "outputs": [],
   "source": [
    "info[2] = ('Steve', 34, 172)  # в виде кортежа"
   ]
  },
  {
   "cell_type": "code",
   "execution_count": 78,
   "metadata": {},
   "outputs": [
    {
     "data": {
      "text/plain": [
       "array([('Anna', 19, 168. ), ('Sam', 33, 175.5), ('Steve', 34, 172. )],\n",
       "      dtype=[('name', '<U10'), ('age', '<i4'), ('height', '<f8')])"
      ]
     },
     "execution_count": 78,
     "metadata": {},
     "output_type": "execute_result"
    }
   ],
   "source": [
    "info"
   ]
  },
  {
   "cell_type": "markdown",
   "metadata": {},
   "source": [
    "А теперь изменим возраст Анны (допустим, мы ошиблись ранее и указали возраст не той Анны):"
   ]
  },
  {
   "cell_type": "code",
   "execution_count": 80,
   "metadata": {},
   "outputs": [
    {
     "data": {
      "text/plain": [
       "array([('Anna', 25, 168. ), ('Sam', 33, 175.5), ('Steve', 34, 172. )],\n",
       "      dtype=[('name', '<U10'), ('age', '<i4'), ('height', '<f8')])"
      ]
     },
     "execution_count": 80,
     "metadata": {},
     "output_type": "execute_result"
    }
   ],
   "source": [
    "info['age'][0] = 25\n",
    "info"
   ]
  },
  {
   "cell_type": "markdown",
   "metadata": {},
   "source": [
    "### Урок 4.6: чтение/запись списков"
   ]
  },
  {
   "cell_type": "markdown",
   "metadata": {},
   "source": [
    "Чтобы было проще работать, сначала обсудим запись списков, тем самым сохранив списки себе на компьютер, а потом будем загружать их в Python. Мотивация: удобно для хранения больших списков с данными + например, для сохранения результатов разных моделей."
   ]
  },
  {
   "cell_type": "markdown",
   "metadata": {},
   "source": [
    "Пусть у нас есть массив из предыдущего урока с данными по трем респондентам:"
   ]
  },
  {
   "cell_type": "code",
   "execution_count": 86,
   "metadata": {},
   "outputs": [],
   "source": [
    "import numpy as np\n",
    "info = np.array([('Anna', 19, 168), \n",
    "                 ('Sam', 33, 175.5), \n",
    "                 ('Pam', 23, 180)],\n",
    "             dtype=[('name', 'U10'), \n",
    "                    ('age', int), \n",
    "                    ('height', float)])"
   ]
  },
  {
   "cell_type": "code",
   "execution_count": 87,
   "metadata": {},
   "outputs": [
    {
     "data": {
      "text/plain": [
       "array([('Anna', 19, 168. ), ('Sam', 33, 175.5), ('Pam', 23, 180. )],\n",
       "      dtype=[('name', '<U10'), ('age', '<i4'), ('height', '<f8')])"
      ]
     },
     "execution_count": 87,
     "metadata": {},
     "output_type": "execute_result"
    }
   ],
   "source": [
    "info"
   ]
  },
  {
   "cell_type": "markdown",
   "metadata": {},
   "source": [
    "Запишем его в файл формата `.npy`: сначала укажем название файла, а затем – сам массив, который сохраняем."
   ]
  },
  {
   "cell_type": "code",
   "execution_count": 89,
   "metadata": {},
   "outputs": [],
   "source": [
    "np.save(\"info.npy\", info)"
   ]
  },
  {
   "cell_type": "markdown",
   "metadata": {},
   "source": [
    "Теперь этот файл можно увидеть во вкладке *Home* в Jupyter Notebook, в рабочей папке. Попробуем выполнить обратную операцию: считаем массив из numpy-файла:"
   ]
  },
  {
   "cell_type": "code",
   "execution_count": 91,
   "metadata": {},
   "outputs": [
    {
     "data": {
      "text/plain": [
       "array([('Anna', 19, 168. ), ('Sam', 33, 175.5), ('Pam', 23, 180. )],\n",
       "      dtype=[('name', '<U10'), ('age', '<i4'), ('height', '<f8')])"
      ]
     },
     "execution_count": 91,
     "metadata": {},
     "output_type": "execute_result"
    }
   ],
   "source": [
    "np.load(\"info.npy\")"
   ]
  },
  {
   "cell_type": "markdown",
   "metadata": {},
   "source": [
    "Выгружать списки можно в разные форматы. Например, можно просто сохранить массив в текстовый файл с расширением `.txt`:"
   ]
  },
  {
   "cell_type": "code",
   "execution_count": 93,
   "metadata": {},
   "outputs": [],
   "source": [
    "ages = np.array([61, 73, 18, 92])"
   ]
  },
  {
   "cell_type": "code",
   "execution_count": 94,
   "metadata": {},
   "outputs": [],
   "source": [
    "np.savetxt(\"ages.txt\", ages)"
   ]
  },
  {
   "cell_type": "markdown",
   "metadata": {},
   "source": [
    "И аналогичным образом считать:"
   ]
  },
  {
   "cell_type": "code",
   "execution_count": 97,
   "metadata": {},
   "outputs": [
    {
     "data": {
      "text/plain": [
       "array([61., 73., 18., 92.])"
      ]
     },
     "execution_count": 97,
     "metadata": {},
     "output_type": "execute_result"
    }
   ],
   "source": [
    "np.loadtxt(\"ages.txt\")"
   ]
  },
  {
   "cell_type": "markdown",
   "metadata": {},
   "source": [
    "Если нет необходимости работать с файлами, можем просто превратить массив в другой объект Python. Например, в обычный список:"
   ]
  },
  {
   "cell_type": "code",
   "execution_count": 99,
   "metadata": {},
   "outputs": [
    {
     "data": {
      "text/plain": [
       "[('Anna', 19, 168.0), ('Sam', 33, 175.5), ('Pam', 23, 180.0)]"
      ]
     },
     "execution_count": 99,
     "metadata": {},
     "output_type": "execute_result"
    }
   ],
   "source": [
    "info.tolist()"
   ]
  },
  {
   "cell_type": "markdown",
   "metadata": {},
   "source": [
    "Или строку:"
   ]
  },
  {
   "cell_type": "code",
   "execution_count": 101,
   "metadata": {},
   "outputs": [
    {
     "data": {
      "text/plain": [
       "\"[('Anna', 19, 168. ) ('Sam', 33, 175.5) ('Pam', 23, 180. )]\""
      ]
     },
     "execution_count": 101,
     "metadata": {},
     "output_type": "execute_result"
    }
   ],
   "source": [
    "np.array2string(info)"
   ]
  },
  {
   "cell_type": "code",
   "execution_count": null,
   "metadata": {},
   "outputs": [],
   "source": []
  }
 ],
 "metadata": {
  "kernelspec": {
   "display_name": "Python 3 (ipykernel)",
   "language": "python",
   "name": "python3"
  },
  "language_info": {
   "codemirror_mode": {
    "name": "ipython",
    "version": 3
   },
   "file_extension": ".py",
   "mimetype": "text/x-python",
   "name": "python",
   "nbconvert_exporter": "python",
   "pygments_lexer": "ipython3",
   "version": "3.9.12"
  }
 },
 "nbformat": 4,
 "nbformat_minor": 4
}
