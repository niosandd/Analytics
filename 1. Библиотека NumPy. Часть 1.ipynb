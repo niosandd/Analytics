{
 "cells": [
  {
   "cell_type": "markdown",
   "id": "5ae26d50-63be-4eb1-92b6-87369f927fa7",
   "metadata": {},
   "source": [
    "**1.1 Основные идеи NumPy**"
   ]
  },
  {
   "cell_type": "code",
   "execution_count": 2,
   "id": "aba1eb2e-0fc2-4454-9fc5-9ce69b1ded15",
   "metadata": {},
   "outputs": [],
   "source": [
    "import numpy as np"
   ]
  },
  {
   "cell_type": "code",
   "execution_count": 2,
   "id": "ceb28a2e-e3db-4c15-9bf3-e36ae4ac879c",
   "metadata": {},
   "outputs": [
    {
     "data": {
      "text/plain": [
       "4.123105625617661"
      ]
     },
     "execution_count": 2,
     "metadata": {},
     "output_type": "execute_result"
    }
   ],
   "source": [
    "np.sqrt(17)"
   ]
  },
  {
   "cell_type": "code",
   "execution_count": 3,
   "id": "386eafdd-e29a-44ec-ab70-5711064416c2",
   "metadata": {},
   "outputs": [
    {
     "data": {
      "text/plain": [
       "1.3862943611198906"
      ]
     },
     "execution_count": 3,
     "metadata": {},
     "output_type": "execute_result"
    }
   ],
   "source": [
    "np.log(4)"
   ]
  },
  {
   "cell_type": "code",
   "execution_count": 4,
   "id": "8560a514-e2fc-4146-803c-3e1d73349f73",
   "metadata": {},
   "outputs": [
    {
     "data": {
      "text/plain": [
       "25.166666666666668"
      ]
     },
     "execution_count": 4,
     "metadata": {},
     "output_type": "execute_result"
    }
   ],
   "source": [
    "np.mean([4,3,46,53,42,3])"
   ]
  },
  {
   "cell_type": "code",
   "execution_count": 5,
   "id": "8bbdfa4b-cadb-415e-aa90-d153c7ad3601",
   "metadata": {},
   "outputs": [
    {
     "data": {
      "text/plain": [
       "23.0"
      ]
     },
     "execution_count": 5,
     "metadata": {},
     "output_type": "execute_result"
    }
   ],
   "source": [
    "np.median([4,3,46,53,42,3])"
   ]
  },
  {
   "cell_type": "markdown",
   "id": "abeab9fa-e788-4803-833f-694b5a99e5c0",
   "metadata": {},
   "source": [
    "**1.4 Ndarray: базовая концепция**"
   ]
  },
  {
   "cell_type": "code",
   "execution_count": 7,
   "id": "dcbbd42b-3695-4b7f-a68a-6af1b25b8cdb",
   "metadata": {},
   "outputs": [
    {
     "data": {
      "text/plain": [
       "array([2, 3, 4])"
      ]
     },
     "execution_count": 7,
     "metadata": {},
     "output_type": "execute_result"
    }
   ],
   "source": [
    "np.array([2,3,4])"
   ]
  },
  {
   "cell_type": "code",
   "execution_count": 9,
   "id": "8c347012-3a9d-4ca7-8393-b08f4dce36ff",
   "metadata": {},
   "outputs": [
    {
     "data": {
      "text/plain": [
       "array([[2, 3, 4],\n",
       "       [3, 4, 5]])"
      ]
     },
     "execution_count": 9,
     "metadata": {},
     "output_type": "execute_result"
    }
   ],
   "source": [
    "np.array([[2,3,4],\n",
    "        [3,4,5]])"
   ]
  },
  {
   "cell_type": "code",
   "execution_count": 10,
   "id": "f47d66da-054f-4f47-9b42-1d9b96aa06f6",
   "metadata": {},
   "outputs": [
    {
     "data": {
      "text/plain": [
       "array([[[2, 3, 4],\n",
       "        [2, 4, 5]],\n",
       "\n",
       "       [[4, 5, 6],\n",
       "        [3, 4, 5]]])"
      ]
     },
     "execution_count": 10,
     "metadata": {},
     "output_type": "execute_result"
    }
   ],
   "source": [
    "np.array([[[2,3,4],\n",
    "           [2,4,5]],\n",
    "           \n",
    "           [[4,5,6],\n",
    "        [3,4,5]]])"
   ]
  },
  {
   "cell_type": "code",
   "execution_count": 12,
   "id": "f0f8a41b-1980-401a-bd8a-ca32c3ac9b6a",
   "metadata": {},
   "outputs": [
    {
     "name": "stderr",
     "output_type": "stream",
     "text": [
      "C:\\Windows\\Temp\\ipykernel_12924\\1157647257.py:1: VisibleDeprecationWarning: Creating an ndarray from ragged nested sequences (which is a list-or-tuple of lists-or-tuples-or ndarrays with different lengths or shapes) is deprecated. If you meant to do this, you must specify 'dtype=object' when creating the ndarray.\n",
      "  np.array([[2,3,4], [0,1]])\n"
     ]
    },
    {
     "data": {
      "text/plain": [
       "array([list([2, 3, 4]), list([0, 1])], dtype=object)"
      ]
     },
     "execution_count": 12,
     "metadata": {},
     "output_type": "execute_result"
    }
   ],
   "source": [
    "np.array([[2,3,4], [0,1]])"
   ]
  },
  {
   "cell_type": "code",
   "execution_count": 14,
   "id": "9e593ceb-8caf-4d13-8676-73e363731bfd",
   "metadata": {},
   "outputs": [
    {
     "data": {
      "text/plain": [
       "array([['Kate', 'Ann'],\n",
       "       ['24', '34']], dtype='<U11')"
      ]
     },
     "execution_count": 14,
     "metadata": {},
     "output_type": "execute_result"
    }
   ],
   "source": [
    "np.array([[\"Kate\", \"Ann\"],[24,34]])"
   ]
  },
  {
   "cell_type": "markdown",
   "id": "374030a9-6ea7-4dc9-ba4b-79531a82b8c0",
   "metadata": {},
   "source": [
    "**1.5 Ndarray: операции**"
   ]
  },
  {
   "cell_type": "code",
   "execution_count": 16,
   "id": "b12bfd1c-5974-4622-b159-b8ee7a98631e",
   "metadata": {},
   "outputs": [
    {
     "data": {
      "text/plain": [
       "array([4, 3, 5])"
      ]
     },
     "execution_count": 16,
     "metadata": {},
     "output_type": "execute_result"
    }
   ],
   "source": [
    "turnout = np.array([4,3,5])\n",
    "turnout"
   ]
  },
  {
   "cell_type": "code",
   "execution_count": 17,
   "id": "5a87ab12-46ab-41a9-a585-b4e8ab7532f1",
   "metadata": {},
   "outputs": [
    {
     "data": {
      "text/plain": [
       "array([400, 300, 500])"
      ]
     },
     "execution_count": 17,
     "metadata": {},
     "output_type": "execute_result"
    }
   ],
   "source": [
    "turnout * 100"
   ]
  },
  {
   "cell_type": "code",
   "execution_count": 18,
   "id": "f0dc2e10-bb29-4583-b3f3-2e29b4c56cd8",
   "metadata": {},
   "outputs": [
    {
     "data": {
      "text/plain": [
       "array([ 8,  6, 10])"
      ]
     },
     "execution_count": 18,
     "metadata": {},
     "output_type": "execute_result"
    }
   ],
   "source": [
    "turnout + np.array([4,3,5])"
   ]
  },
  {
   "cell_type": "code",
   "execution_count": 19,
   "id": "84b72d8f-9f20-4e35-873d-3bec61250c62",
   "metadata": {},
   "outputs": [
    {
     "data": {
      "text/plain": [
       "array([16,  9, 25])"
      ]
     },
     "execution_count": 19,
     "metadata": {},
     "output_type": "execute_result"
    }
   ],
   "source": [
    "turnout**2"
   ]
  },
  {
   "cell_type": "markdown",
   "id": "e2dd6e68-fca5-4035-91cc-f222b3e9e4e4",
   "metadata": {},
   "source": [
    "**1.6 Базовые операции над массивами**"
   ]
  },
  {
   "cell_type": "code",
   "execution_count": 44,
   "id": "58d04b6b-5a4f-4294-acb1-876f3a960ec9",
   "metadata": {},
   "outputs": [],
   "source": [
    "m = np.array([[3,3],\n",
    "             [4,5],\n",
    "             [7,6]])"
   ]
  },
  {
   "cell_type": "code",
   "execution_count": 45,
   "id": "9c7ab49b-5461-4a20-a493-3200e8057aae",
   "metadata": {},
   "outputs": [
    {
     "data": {
      "text/plain": [
       "2"
      ]
     },
     "execution_count": 45,
     "metadata": {},
     "output_type": "execute_result"
    }
   ],
   "source": [
    "m.ndim #определение какой массив"
   ]
  },
  {
   "cell_type": "code",
   "execution_count": 46,
   "id": "79fe8b51-2e3c-40a1-94ef-b0b8cb499391",
   "metadata": {},
   "outputs": [
    {
     "data": {
      "text/plain": [
       "(3, 2)"
      ]
     },
     "execution_count": 46,
     "metadata": {},
     "output_type": "execute_result"
    }
   ],
   "source": [
    "m.shape"
   ]
  },
  {
   "cell_type": "code",
   "execution_count": 47,
   "id": "e69e3258-22f3-42dc-b16c-b18a5987a15a",
   "metadata": {},
   "outputs": [
    {
     "data": {
      "text/plain": [
       "6"
      ]
     },
     "execution_count": 47,
     "metadata": {},
     "output_type": "execute_result"
    }
   ],
   "source": [
    "m.size"
   ]
  },
  {
   "cell_type": "code",
   "execution_count": 48,
   "id": "5b137554-9f98-417d-b70e-6e5dd53d558e",
   "metadata": {},
   "outputs": [
    {
     "data": {
      "text/plain": [
       "5"
      ]
     },
     "execution_count": 48,
     "metadata": {},
     "output_type": "execute_result"
    }
   ],
   "source": [
    "m[1][1]"
   ]
  },
  {
   "cell_type": "code",
   "execution_count": 49,
   "id": "9ba18de5-0caa-483b-83a2-dfc75c533509",
   "metadata": {},
   "outputs": [
    {
     "data": {
      "text/plain": [
       "array([[7, 6]])"
      ]
     },
     "execution_count": 49,
     "metadata": {},
     "output_type": "execute_result"
    }
   ],
   "source": [
    "m[2:]"
   ]
  },
  {
   "cell_type": "code",
   "execution_count": 50,
   "id": "95f853b8-4c1f-44da-b63a-a51ea56812f5",
   "metadata": {},
   "outputs": [
    {
     "data": {
      "text/plain": [
       "5"
      ]
     },
     "execution_count": 50,
     "metadata": {},
     "output_type": "execute_result"
    }
   ],
   "source": [
    "m[1, 1]"
   ]
  },
  {
   "cell_type": "code",
   "execution_count": 51,
   "id": "a057b4c4-2f20-4b05-93a2-a251bc1698f0",
   "metadata": {},
   "outputs": [
    {
     "data": {
      "text/plain": [
       "array([[7, 6],\n",
       "       [4, 5],\n",
       "       [3, 3]])"
      ]
     },
     "execution_count": 51,
     "metadata": {},
     "output_type": "execute_result"
    }
   ],
   "source": [
    "m[::-1]"
   ]
  },
  {
   "cell_type": "markdown",
   "id": "b1f78c03-7011-4c6f-8148-50ecfb3e4c72",
   "metadata": {},
   "source": [
    "**1.7 Вычисления с массивами**"
   ]
  },
  {
   "cell_type": "code",
   "execution_count": 53,
   "id": "af215219-31d8-4a94-b2da-5cb98281a237",
   "metadata": {},
   "outputs": [],
   "source": [
    "marks = np.array([1,2,3,4,5])"
   ]
  },
  {
   "cell_type": "code",
   "execution_count": 54,
   "id": "8afde830-2872-4a73-866b-94ab889f1ca3",
   "metadata": {},
   "outputs": [
    {
     "data": {
      "text/plain": [
       "1"
      ]
     },
     "execution_count": 54,
     "metadata": {},
     "output_type": "execute_result"
    }
   ],
   "source": [
    "marks.min()"
   ]
  },
  {
   "cell_type": "code",
   "execution_count": 56,
   "id": "2b2ba2a5-6308-4bba-bd16-73c321a0227e",
   "metadata": {},
   "outputs": [
    {
     "data": {
      "text/plain": [
       "5"
      ]
     },
     "execution_count": 56,
     "metadata": {},
     "output_type": "execute_result"
    }
   ],
   "source": [
    "marks.max()"
   ]
  },
  {
   "cell_type": "code",
   "execution_count": 58,
   "id": "7f601cf4-c8d3-4612-8e4b-28233ec626e1",
   "metadata": {},
   "outputs": [
    {
     "data": {
      "text/plain": [
       "3.0"
      ]
     },
     "execution_count": 58,
     "metadata": {},
     "output_type": "execute_result"
    }
   ],
   "source": [
    "marks.mean()"
   ]
  },
  {
   "cell_type": "code",
   "execution_count": 60,
   "id": "e23b64df-febd-4244-b4b4-646a4e908b8d",
   "metadata": {},
   "outputs": [
    {
     "data": {
      "text/plain": [
       "4"
      ]
     },
     "execution_count": 60,
     "metadata": {},
     "output_type": "execute_result"
    }
   ],
   "source": [
    "marks.argmax()"
   ]
  },
  {
   "cell_type": "code",
   "execution_count": 61,
   "id": "ff5f5404-0679-4392-89a5-e19f5f96f1c4",
   "metadata": {},
   "outputs": [
    {
     "data": {
      "text/plain": [
       "0"
      ]
     },
     "execution_count": 61,
     "metadata": {},
     "output_type": "execute_result"
    }
   ],
   "source": [
    "marks.argmin()"
   ]
  },
  {
   "cell_type": "code",
   "execution_count": 62,
   "id": "94951eba-0f06-4240-9b92-dd48c1a873e1",
   "metadata": {},
   "outputs": [],
   "source": [
    "grades = np.array([[3,5,5,4,3],\n",
    "                   [3,3,4,3,3],\n",
    "                   [5,5,5,4,3]])"
   ]
  },
  {
   "cell_type": "code",
   "execution_count": 63,
   "id": "5744a07c-a72a-44ed-be5f-9cf6b7585dcd",
   "metadata": {},
   "outputs": [
    {
     "name": "stdout",
     "output_type": "stream",
     "text": [
      "[[3 5 5 4 3]\n",
      " [3 3 4 3 3]\n",
      " [5 5 5 4 3]]\n"
     ]
    }
   ],
   "source": [
    "print(grades)"
   ]
  },
  {
   "cell_type": "code",
   "execution_count": 64,
   "id": "070d9fa3-9b82-4dd3-af58-035dd3895909",
   "metadata": {},
   "outputs": [
    {
     "data": {
      "text/plain": [
       "array([4. , 3.2, 4.4])"
      ]
     },
     "execution_count": 64,
     "metadata": {},
     "output_type": "execute_result"
    }
   ],
   "source": [
    "grades.mean(axis = 1) #по каждому массиву, т.е. студентку как тут"
   ]
  },
  {
   "cell_type": "code",
   "execution_count": 66,
   "id": "17c8cb7b-20f4-4da5-91b3-d230fb1bc2f7",
   "metadata": {},
   "outputs": [
    {
     "data": {
      "text/plain": [
       "array([3.66666667, 4.33333333, 4.66666667, 3.66666667, 3.        ])"
      ]
     },
     "execution_count": 66,
     "metadata": {},
     "output_type": "execute_result"
    }
   ],
   "source": [
    "grades.mean(axis = 0) #по столбцу"
   ]
  },
  {
   "cell_type": "markdown",
   "id": "287dc452-0903-4b70-a4cb-334cf2db9350",
   "metadata": {},
   "source": [
    "**1.8 Создание массивов**"
   ]
  },
  {
   "cell_type": "code",
   "execution_count": 67,
   "id": "c08f496c-b1a6-47b6-b597-83cf55464a53",
   "metadata": {},
   "outputs": [
    {
     "data": {
      "text/plain": [
       "array([2, 3, 4, 5, 6, 7, 8])"
      ]
     },
     "execution_count": 67,
     "metadata": {},
     "output_type": "execute_result"
    }
   ],
   "source": [
    "np.arange(2,9)"
   ]
  },
  {
   "cell_type": "code",
   "execution_count": 68,
   "id": "fd546edf-e313-40eb-81f8-695d5a6853a9",
   "metadata": {},
   "outputs": [
    {
     "data": {
      "text/plain": [
       "array([2, 5, 8])"
      ]
     },
     "execution_count": 68,
     "metadata": {},
     "output_type": "execute_result"
    }
   ],
   "source": [
    "np.arange(2,9,3)"
   ]
  },
  {
   "cell_type": "code",
   "execution_count": 70,
   "id": "aee82c12-53b8-4412-a37a-11b4e5ad7434",
   "metadata": {},
   "outputs": [
    {
     "data": {
      "text/plain": [
       "array([2. , 2.5, 3. , 3.5, 4. , 4.5, 5. , 5.5, 6. , 6.5, 7. , 7.5, 8. ,\n",
       "       8.5])"
      ]
     },
     "execution_count": 70,
     "metadata": {},
     "output_type": "execute_result"
    }
   ],
   "source": [
    "np.arange(2,9,0.5)"
   ]
  },
  {
   "cell_type": "code",
   "execution_count": 5,
   "id": "ccc49dbb-8179-409c-9e72-36a4ec49bdbc",
   "metadata": {},
   "outputs": [
    {
     "data": {
      "text/plain": [
       "array([0., 0., 0., 0., 0.])"
      ]
     },
     "execution_count": 5,
     "metadata": {},
     "output_type": "execute_result"
    }
   ],
   "source": [
    "z = np.zeros((5))\n",
    "z"
   ]
  },
  {
   "cell_type": "code",
   "execution_count": 7,
   "id": "f4b45103-4c26-48a9-9c80-21d6e19f4958",
   "metadata": {},
   "outputs": [
    {
     "data": {
      "text/plain": [
       "array([[1., 1., 1., 1., 1.],\n",
       "       [1., 1., 1., 1., 1.],\n",
       "       [1., 1., 1., 1., 1.],\n",
       "       [1., 1., 1., 1., 1.],\n",
       "       [1., 1., 1., 1., 1.]])"
      ]
     },
     "execution_count": 7,
     "metadata": {},
     "output_type": "execute_result"
    }
   ],
   "source": [
    "o = np.ones((5,5))\n",
    "o"
   ]
  },
  {
   "cell_type": "code",
   "execution_count": 10,
   "id": "e47bf39a-61da-4eea-be1a-e01b3d32b69b",
   "metadata": {},
   "outputs": [
    {
     "data": {
      "text/plain": [
       "array([[1., 0., 0., 0., 0.],\n",
       "       [0., 1., 0., 0., 0.],\n",
       "       [0., 0., 1., 0., 0.],\n",
       "       [0., 0., 0., 1., 0.],\n",
       "       [0., 0., 0., 0., 1.]])"
      ]
     },
     "execution_count": 10,
     "metadata": {},
     "output_type": "execute_result"
    }
   ],
   "source": [
    "e = np.eye(5)\n",
    "e"
   ]
  },
  {
   "cell_type": "markdown",
   "id": "fde256d0-1a0c-49ea-b277-cda204ddfe45",
   "metadata": {},
   "source": [
    "**1.9 Условия и булевы массивы**"
   ]
  },
  {
   "cell_type": "code",
   "execution_count": 12,
   "id": "02acd313-3ee2-40db-8eeb-baac3af2a5cd",
   "metadata": {},
   "outputs": [
    {
     "data": {
      "text/plain": [
       "True"
      ]
     },
     "execution_count": 12,
     "metadata": {},
     "output_type": "execute_result"
    }
   ],
   "source": [
    "a = 6 \n",
    "b = 7\n",
    "b > a"
   ]
  },
  {
   "cell_type": "code",
   "execution_count": 13,
   "id": "e7b1e578-e453-4ecf-9d78-1b0657b90b29",
   "metadata": {},
   "outputs": [
    {
     "data": {
      "text/plain": [
       "True"
      ]
     },
     "execution_count": 13,
     "metadata": {},
     "output_type": "execute_result"
    }
   ],
   "source": [
    "b >= a"
   ]
  },
  {
   "cell_type": "code",
   "execution_count": 14,
   "id": "64cd0c21-1c71-4967-a22d-d9259d0395c2",
   "metadata": {},
   "outputs": [
    {
     "data": {
      "text/plain": [
       "False"
      ]
     },
     "execution_count": 14,
     "metadata": {},
     "output_type": "execute_result"
    }
   ],
   "source": [
    "a == b"
   ]
  },
  {
   "cell_type": "code",
   "execution_count": 16,
   "id": "454fe4a9-2ba8-46e3-af86-25ef64f4eeb9",
   "metadata": {},
   "outputs": [],
   "source": [
    "ages = np.array([\n",
    "    [15,23,32,45,52],\n",
    "    [68,34,55,78,20],\n",
    "    [25,67,33,45,14]\n",
    "])"
   ]
  },
  {
   "cell_type": "code",
   "execution_count": 17,
   "id": "3b67babe-ebac-4a0f-9585-e66f07514167",
   "metadata": {},
   "outputs": [
    {
     "data": {
      "text/plain": [
       "array([[False,  True,  True,  True,  True],\n",
       "       [ True,  True,  True,  True,  True],\n",
       "       [ True,  True,  True,  True, False]])"
      ]
     },
     "execution_count": 17,
     "metadata": {},
     "output_type": "execute_result"
    }
   ],
   "source": [
    "ages >= 16"
   ]
  },
  {
   "cell_type": "code",
   "execution_count": 19,
   "id": "d2e53d2f-a173-464f-bb19-517c1ac78bfe",
   "metadata": {},
   "outputs": [
    {
     "data": {
      "text/plain": [
       "array([[False,  True,  True,  True,  True],\n",
       "       [ True,  True,  True,  True,  True],\n",
       "       [ True,  True,  True,  True, False]])"
      ]
     },
     "execution_count": 19,
     "metadata": {},
     "output_type": "execute_result"
    }
   ],
   "source": [
    "M = ages>=16\n",
    "M"
   ]
  },
  {
   "cell_type": "code",
   "execution_count": 22,
   "id": "5f005758-594b-4696-90b7-5234f0f56d6c",
   "metadata": {},
   "outputs": [],
   "source": [
    "work = (ages>18)&(ages<28)"
   ]
  },
  {
   "cell_type": "code",
   "execution_count": 23,
   "id": "a1baa789-6014-44f4-8e37-47620033985f",
   "metadata": {},
   "outputs": [
    {
     "data": {
      "text/plain": [
       "3"
      ]
     },
     "execution_count": 23,
     "metadata": {},
     "output_type": "execute_result"
    }
   ],
   "source": [
    "work.sum()"
   ]
  },
  {
   "cell_type": "code",
   "execution_count": 24,
   "id": "48bbb6f1-9271-4621-a09a-4c5f163d539a",
   "metadata": {},
   "outputs": [
    {
     "data": {
      "text/plain": [
       "array([[ True, False,  True,  True,  True],\n",
       "       [ True,  True,  True,  True, False],\n",
       "       [False,  True,  True,  True,  True]])"
      ]
     },
     "execution_count": 24,
     "metadata": {},
     "output_type": "execute_result"
    }
   ],
   "source": [
    "(ages<18) | (ages>28)"
   ]
  },
  {
   "cell_type": "code",
   "execution_count": 25,
   "id": "3a01fa59-fc6d-4415-9f6d-46d8212f5e2f",
   "metadata": {},
   "outputs": [
    {
     "data": {
      "text/plain": [
       "array([23, 32, 45, 52, 68, 34, 55, 78, 20, 25, 67, 33, 45])"
      ]
     },
     "execution_count": 25,
     "metadata": {},
     "output_type": "execute_result"
    }
   ],
   "source": [
    "ages[ages >= 16]"
   ]
  },
  {
   "cell_type": "code",
   "execution_count": 27,
   "id": "18c561e5-70a6-4ec9-9deb-fc57503a70b7",
   "metadata": {},
   "outputs": [
    {
     "data": {
      "text/plain": [
       "array([23, 32, 45, 52, 34, 55, 20, 25, 33, 45])"
      ]
     },
     "execution_count": 27,
     "metadata": {},
     "output_type": "execute_result"
    }
   ],
   "source": [
    "ages[(ages >= 16) & (ages < 60)]"
   ]
  },
  {
   "cell_type": "code",
   "execution_count": null,
   "id": "16f0c79d-8e1c-43de-b180-e0e838a38d36",
   "metadata": {},
   "outputs": [],
   "source": []
  }
 ],
 "metadata": {
  "kernelspec": {
   "display_name": "venv_4",
   "language": "python",
   "name": "venv_4"
  },
  "language_info": {
   "codemirror_mode": {
    "name": "ipython",
    "version": 3
   },
   "file_extension": ".py",
   "mimetype": "text/x-python",
   "name": "python",
   "nbconvert_exporter": "python",
   "pygments_lexer": "ipython3",
   "version": "3.10.7"
  }
 },
 "nbformat": 4,
 "nbformat_minor": 5
}
